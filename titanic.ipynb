{
 "cells": [
  {
   "cell_type": "markdown",
   "metadata": {},
   "source": [
    "# Загрузка и просмотр данных"
   ]
  },
  {
   "cell_type": "code",
   "execution_count": 136,
   "metadata": {
    "execution": {
     "iopub.execute_input": "2024-12-13T12:37:06.750567Z",
     "iopub.status.busy": "2024-12-13T12:37:06.749779Z",
     "iopub.status.idle": "2024-12-13T12:37:06.754996Z",
     "shell.execute_reply": "2024-12-13T12:37:06.753826Z",
     "shell.execute_reply.started": "2024-12-13T12:37:06.750530Z"
    },
    "trusted": true
   },
   "outputs": [],
   "source": [
    "import pandas as pd\n",
    "import seaborn as sns\n",
    "import re\n",
    "import matplotlib.pyplot as plt"
   ]
  },
  {
   "cell_type": "code",
   "execution_count": 137,
   "metadata": {
    "execution": {
     "iopub.execute_input": "2024-12-13T12:37:06.759253Z",
     "iopub.status.busy": "2024-12-13T12:37:06.758922Z",
     "iopub.status.idle": "2024-12-13T12:37:06.785251Z",
     "shell.execute_reply": "2024-12-13T12:37:06.784049Z",
     "shell.execute_reply.started": "2024-12-13T12:37:06.759222Z"
    },
    "trusted": true
   },
   "outputs": [
    {
     "data": {
      "text/html": [
       "<div>\n",
       "<style scoped>\n",
       "    .dataframe tbody tr th:only-of-type {\n",
       "        vertical-align: middle;\n",
       "    }\n",
       "\n",
       "    .dataframe tbody tr th {\n",
       "        vertical-align: top;\n",
       "    }\n",
       "\n",
       "    .dataframe thead th {\n",
       "        text-align: right;\n",
       "    }\n",
       "</style>\n",
       "<table border=\"1\" class=\"dataframe\">\n",
       "  <thead>\n",
       "    <tr style=\"text-align: right;\">\n",
       "      <th></th>\n",
       "      <th>PassengerId</th>\n",
       "      <th>Survived</th>\n",
       "      <th>Pclass</th>\n",
       "      <th>Name</th>\n",
       "      <th>Sex</th>\n",
       "      <th>Age</th>\n",
       "      <th>SibSp</th>\n",
       "      <th>Parch</th>\n",
       "      <th>Ticket</th>\n",
       "      <th>Fare</th>\n",
       "      <th>Cabin</th>\n",
       "      <th>Embarked</th>\n",
       "    </tr>\n",
       "  </thead>\n",
       "  <tbody>\n",
       "    <tr>\n",
       "      <th>0</th>\n",
       "      <td>1</td>\n",
       "      <td>0</td>\n",
       "      <td>3</td>\n",
       "      <td>Braund, Mr. Owen Harris</td>\n",
       "      <td>male</td>\n",
       "      <td>22.0</td>\n",
       "      <td>1</td>\n",
       "      <td>0</td>\n",
       "      <td>A/5 21171</td>\n",
       "      <td>7.2500</td>\n",
       "      <td>NaN</td>\n",
       "      <td>S</td>\n",
       "    </tr>\n",
       "    <tr>\n",
       "      <th>1</th>\n",
       "      <td>2</td>\n",
       "      <td>1</td>\n",
       "      <td>1</td>\n",
       "      <td>Cumings, Mrs. John Bradley (Florence Briggs Th...</td>\n",
       "      <td>female</td>\n",
       "      <td>38.0</td>\n",
       "      <td>1</td>\n",
       "      <td>0</td>\n",
       "      <td>PC 17599</td>\n",
       "      <td>71.2833</td>\n",
       "      <td>C85</td>\n",
       "      <td>C</td>\n",
       "    </tr>\n",
       "    <tr>\n",
       "      <th>2</th>\n",
       "      <td>3</td>\n",
       "      <td>1</td>\n",
       "      <td>3</td>\n",
       "      <td>Heikkinen, Miss. Laina</td>\n",
       "      <td>female</td>\n",
       "      <td>26.0</td>\n",
       "      <td>0</td>\n",
       "      <td>0</td>\n",
       "      <td>STON/O2. 3101282</td>\n",
       "      <td>7.9250</td>\n",
       "      <td>NaN</td>\n",
       "      <td>S</td>\n",
       "    </tr>\n",
       "    <tr>\n",
       "      <th>3</th>\n",
       "      <td>4</td>\n",
       "      <td>1</td>\n",
       "      <td>1</td>\n",
       "      <td>Futrelle, Mrs. Jacques Heath (Lily May Peel)</td>\n",
       "      <td>female</td>\n",
       "      <td>35.0</td>\n",
       "      <td>1</td>\n",
       "      <td>0</td>\n",
       "      <td>113803</td>\n",
       "      <td>53.1000</td>\n",
       "      <td>C123</td>\n",
       "      <td>S</td>\n",
       "    </tr>\n",
       "    <tr>\n",
       "      <th>4</th>\n",
       "      <td>5</td>\n",
       "      <td>0</td>\n",
       "      <td>3</td>\n",
       "      <td>Allen, Mr. William Henry</td>\n",
       "      <td>male</td>\n",
       "      <td>35.0</td>\n",
       "      <td>0</td>\n",
       "      <td>0</td>\n",
       "      <td>373450</td>\n",
       "      <td>8.0500</td>\n",
       "      <td>NaN</td>\n",
       "      <td>S</td>\n",
       "    </tr>\n",
       "    <tr>\n",
       "      <th>...</th>\n",
       "      <td>...</td>\n",
       "      <td>...</td>\n",
       "      <td>...</td>\n",
       "      <td>...</td>\n",
       "      <td>...</td>\n",
       "      <td>...</td>\n",
       "      <td>...</td>\n",
       "      <td>...</td>\n",
       "      <td>...</td>\n",
       "      <td>...</td>\n",
       "      <td>...</td>\n",
       "      <td>...</td>\n",
       "    </tr>\n",
       "    <tr>\n",
       "      <th>886</th>\n",
       "      <td>887</td>\n",
       "      <td>0</td>\n",
       "      <td>2</td>\n",
       "      <td>Montvila, Rev. Juozas</td>\n",
       "      <td>male</td>\n",
       "      <td>27.0</td>\n",
       "      <td>0</td>\n",
       "      <td>0</td>\n",
       "      <td>211536</td>\n",
       "      <td>13.0000</td>\n",
       "      <td>NaN</td>\n",
       "      <td>S</td>\n",
       "    </tr>\n",
       "    <tr>\n",
       "      <th>887</th>\n",
       "      <td>888</td>\n",
       "      <td>1</td>\n",
       "      <td>1</td>\n",
       "      <td>Graham, Miss. Margaret Edith</td>\n",
       "      <td>female</td>\n",
       "      <td>19.0</td>\n",
       "      <td>0</td>\n",
       "      <td>0</td>\n",
       "      <td>112053</td>\n",
       "      <td>30.0000</td>\n",
       "      <td>B42</td>\n",
       "      <td>S</td>\n",
       "    </tr>\n",
       "    <tr>\n",
       "      <th>888</th>\n",
       "      <td>889</td>\n",
       "      <td>0</td>\n",
       "      <td>3</td>\n",
       "      <td>Johnston, Miss. Catherine Helen \"Carrie\"</td>\n",
       "      <td>female</td>\n",
       "      <td>NaN</td>\n",
       "      <td>1</td>\n",
       "      <td>2</td>\n",
       "      <td>W./C. 6607</td>\n",
       "      <td>23.4500</td>\n",
       "      <td>NaN</td>\n",
       "      <td>S</td>\n",
       "    </tr>\n",
       "    <tr>\n",
       "      <th>889</th>\n",
       "      <td>890</td>\n",
       "      <td>1</td>\n",
       "      <td>1</td>\n",
       "      <td>Behr, Mr. Karl Howell</td>\n",
       "      <td>male</td>\n",
       "      <td>26.0</td>\n",
       "      <td>0</td>\n",
       "      <td>0</td>\n",
       "      <td>111369</td>\n",
       "      <td>30.0000</td>\n",
       "      <td>C148</td>\n",
       "      <td>C</td>\n",
       "    </tr>\n",
       "    <tr>\n",
       "      <th>890</th>\n",
       "      <td>891</td>\n",
       "      <td>0</td>\n",
       "      <td>3</td>\n",
       "      <td>Dooley, Mr. Patrick</td>\n",
       "      <td>male</td>\n",
       "      <td>32.0</td>\n",
       "      <td>0</td>\n",
       "      <td>0</td>\n",
       "      <td>370376</td>\n",
       "      <td>7.7500</td>\n",
       "      <td>NaN</td>\n",
       "      <td>Q</td>\n",
       "    </tr>\n",
       "  </tbody>\n",
       "</table>\n",
       "<p>891 rows × 12 columns</p>\n",
       "</div>"
      ],
      "text/plain": [
       "     PassengerId  Survived  Pclass  \\\n",
       "0              1         0       3   \n",
       "1              2         1       1   \n",
       "2              3         1       3   \n",
       "3              4         1       1   \n",
       "4              5         0       3   \n",
       "..           ...       ...     ...   \n",
       "886          887         0       2   \n",
       "887          888         1       1   \n",
       "888          889         0       3   \n",
       "889          890         1       1   \n",
       "890          891         0       3   \n",
       "\n",
       "                                                  Name     Sex   Age  SibSp  \\\n",
       "0                              Braund, Mr. Owen Harris    male  22.0      1   \n",
       "1    Cumings, Mrs. John Bradley (Florence Briggs Th...  female  38.0      1   \n",
       "2                               Heikkinen, Miss. Laina  female  26.0      0   \n",
       "3         Futrelle, Mrs. Jacques Heath (Lily May Peel)  female  35.0      1   \n",
       "4                             Allen, Mr. William Henry    male  35.0      0   \n",
       "..                                                 ...     ...   ...    ...   \n",
       "886                              Montvila, Rev. Juozas    male  27.0      0   \n",
       "887                       Graham, Miss. Margaret Edith  female  19.0      0   \n",
       "888           Johnston, Miss. Catherine Helen \"Carrie\"  female   NaN      1   \n",
       "889                              Behr, Mr. Karl Howell    male  26.0      0   \n",
       "890                                Dooley, Mr. Patrick    male  32.0      0   \n",
       "\n",
       "     Parch            Ticket     Fare Cabin Embarked  \n",
       "0        0         A/5 21171   7.2500   NaN        S  \n",
       "1        0          PC 17599  71.2833   C85        C  \n",
       "2        0  STON/O2. 3101282   7.9250   NaN        S  \n",
       "3        0            113803  53.1000  C123        S  \n",
       "4        0            373450   8.0500   NaN        S  \n",
       "..     ...               ...      ...   ...      ...  \n",
       "886      0            211536  13.0000   NaN        S  \n",
       "887      0            112053  30.0000   B42        S  \n",
       "888      2        W./C. 6607  23.4500   NaN        S  \n",
       "889      0            111369  30.0000  C148        C  \n",
       "890      0            370376   7.7500   NaN        Q  \n",
       "\n",
       "[891 rows x 12 columns]"
      ]
     },
     "execution_count": 137,
     "metadata": {},
     "output_type": "execute_result"
    }
   ],
   "source": [
    "df = pd.read_csv('DSB_Day1_Titanic_train.csv')\n",
    "df"
   ]
  },
  {
   "cell_type": "code",
   "execution_count": 138,
   "metadata": {
    "execution": {
     "iopub.execute_input": "2024-12-13T12:37:06.787226Z",
     "iopub.status.busy": "2024-12-13T12:37:06.786885Z",
     "iopub.status.idle": "2024-12-13T12:37:06.806086Z",
     "shell.execute_reply": "2024-12-13T12:37:06.805001Z",
     "shell.execute_reply.started": "2024-12-13T12:37:06.787194Z"
    },
    "trusted": true
   },
   "outputs": [
    {
     "data": {
      "text/plain": [
       "PassengerId  Survived  Pclass  Name                                                 Sex     Age   SibSp  Parch  Ticket    Fare     Cabin        Embarked\n",
       "2            1         1       Cumings, Mrs. John Bradley (Florence Briggs Thayer)  female  38.0  1      0      PC 17599  71.2833  C85          C           1\n",
       "4            1         1       Futrelle, Mrs. Jacques Heath (Lily May Peel)         female  35.0  1      0      113803    53.1000  C123         S           1\n",
       "7            0         1       McCarthy, Mr. Timothy J                              male    54.0  0      0      17463     51.8625  E46          S           1\n",
       "11           1         3       Sandstrom, Miss. Marguerite Rut                      female  4.0   1      1      PP 9549   16.7000  G6           S           1\n",
       "12           1         1       Bonnell, Miss. Elizabeth                             female  58.0  0      0      113783    26.5500  C103         S           1\n",
       "                                                                                                                                                           ..\n",
       "872          1         1       Beckwith, Mrs. Richard Leonard (Sallie Monypeny)     female  47.0  1      1      11751     52.5542  D35          S           1\n",
       "873          0         1       Carlsson, Mr. Frans Olof                             male    33.0  0      0      695       5.0000   B51 B53 B55  S           1\n",
       "880          1         1       Potter, Mrs. Thomas Jr (Lily Alexenia Wilson)        female  56.0  0      1      11767     83.1583  C50          C           1\n",
       "888          1         1       Graham, Miss. Margaret Edith                         female  19.0  0      0      112053    30.0000  B42          S           1\n",
       "890          1         1       Behr, Mr. Karl Howell                                male    26.0  0      0      111369    30.0000  C148         C           1\n",
       "Name: count, Length: 183, dtype: int64"
      ]
     },
     "execution_count": 138,
     "metadata": {},
     "output_type": "execute_result"
    }
   ],
   "source": [
    "df.value_counts()"
   ]
  },
  {
   "cell_type": "markdown",
   "metadata": {},
   "source": [
    "# Смотрим, какие данные есть, проверяем на пустые значени "
   ]
  },
  {
   "cell_type": "code",
   "execution_count": 139,
   "metadata": {
    "execution": {
     "iopub.execute_input": "2024-12-13T12:37:06.808124Z",
     "iopub.status.busy": "2024-12-13T12:37:06.807813Z",
     "iopub.status.idle": "2024-12-13T12:37:06.840495Z",
     "shell.execute_reply": "2024-12-13T12:37:06.839319Z",
     "shell.execute_reply.started": "2024-12-13T12:37:06.808092Z"
    },
    "trusted": true
   },
   "outputs": [
    {
     "data": {
      "text/html": [
       "<div>\n",
       "<style scoped>\n",
       "    .dataframe tbody tr th:only-of-type {\n",
       "        vertical-align: middle;\n",
       "    }\n",
       "\n",
       "    .dataframe tbody tr th {\n",
       "        vertical-align: top;\n",
       "    }\n",
       "\n",
       "    .dataframe thead th {\n",
       "        text-align: right;\n",
       "    }\n",
       "</style>\n",
       "<table border=\"1\" class=\"dataframe\">\n",
       "  <thead>\n",
       "    <tr style=\"text-align: right;\">\n",
       "      <th></th>\n",
       "      <th>PassengerId</th>\n",
       "      <th>Survived</th>\n",
       "      <th>Pclass</th>\n",
       "      <th>Age</th>\n",
       "      <th>SibSp</th>\n",
       "      <th>Parch</th>\n",
       "      <th>Fare</th>\n",
       "    </tr>\n",
       "  </thead>\n",
       "  <tbody>\n",
       "    <tr>\n",
       "      <th>count</th>\n",
       "      <td>891.000000</td>\n",
       "      <td>891.000000</td>\n",
       "      <td>891.000000</td>\n",
       "      <td>714.000000</td>\n",
       "      <td>891.000000</td>\n",
       "      <td>891.000000</td>\n",
       "      <td>891.000000</td>\n",
       "    </tr>\n",
       "    <tr>\n",
       "      <th>mean</th>\n",
       "      <td>446.000000</td>\n",
       "      <td>0.383838</td>\n",
       "      <td>2.308642</td>\n",
       "      <td>29.699118</td>\n",
       "      <td>0.523008</td>\n",
       "      <td>0.381594</td>\n",
       "      <td>32.204208</td>\n",
       "    </tr>\n",
       "    <tr>\n",
       "      <th>std</th>\n",
       "      <td>257.353842</td>\n",
       "      <td>0.486592</td>\n",
       "      <td>0.836071</td>\n",
       "      <td>14.526497</td>\n",
       "      <td>1.102743</td>\n",
       "      <td>0.806057</td>\n",
       "      <td>49.693429</td>\n",
       "    </tr>\n",
       "    <tr>\n",
       "      <th>min</th>\n",
       "      <td>1.000000</td>\n",
       "      <td>0.000000</td>\n",
       "      <td>1.000000</td>\n",
       "      <td>0.420000</td>\n",
       "      <td>0.000000</td>\n",
       "      <td>0.000000</td>\n",
       "      <td>0.000000</td>\n",
       "    </tr>\n",
       "    <tr>\n",
       "      <th>25%</th>\n",
       "      <td>223.500000</td>\n",
       "      <td>0.000000</td>\n",
       "      <td>2.000000</td>\n",
       "      <td>20.125000</td>\n",
       "      <td>0.000000</td>\n",
       "      <td>0.000000</td>\n",
       "      <td>7.910400</td>\n",
       "    </tr>\n",
       "    <tr>\n",
       "      <th>50%</th>\n",
       "      <td>446.000000</td>\n",
       "      <td>0.000000</td>\n",
       "      <td>3.000000</td>\n",
       "      <td>28.000000</td>\n",
       "      <td>0.000000</td>\n",
       "      <td>0.000000</td>\n",
       "      <td>14.454200</td>\n",
       "    </tr>\n",
       "    <tr>\n",
       "      <th>75%</th>\n",
       "      <td>668.500000</td>\n",
       "      <td>1.000000</td>\n",
       "      <td>3.000000</td>\n",
       "      <td>38.000000</td>\n",
       "      <td>1.000000</td>\n",
       "      <td>0.000000</td>\n",
       "      <td>31.000000</td>\n",
       "    </tr>\n",
       "    <tr>\n",
       "      <th>max</th>\n",
       "      <td>891.000000</td>\n",
       "      <td>1.000000</td>\n",
       "      <td>3.000000</td>\n",
       "      <td>80.000000</td>\n",
       "      <td>8.000000</td>\n",
       "      <td>6.000000</td>\n",
       "      <td>512.329200</td>\n",
       "    </tr>\n",
       "  </tbody>\n",
       "</table>\n",
       "</div>"
      ],
      "text/plain": [
       "       PassengerId    Survived      Pclass         Age       SibSp  \\\n",
       "count   891.000000  891.000000  891.000000  714.000000  891.000000   \n",
       "mean    446.000000    0.383838    2.308642   29.699118    0.523008   \n",
       "std     257.353842    0.486592    0.836071   14.526497    1.102743   \n",
       "min       1.000000    0.000000    1.000000    0.420000    0.000000   \n",
       "25%     223.500000    0.000000    2.000000   20.125000    0.000000   \n",
       "50%     446.000000    0.000000    3.000000   28.000000    0.000000   \n",
       "75%     668.500000    1.000000    3.000000   38.000000    1.000000   \n",
       "max     891.000000    1.000000    3.000000   80.000000    8.000000   \n",
       "\n",
       "            Parch        Fare  \n",
       "count  891.000000  891.000000  \n",
       "mean     0.381594   32.204208  \n",
       "std      0.806057   49.693429  \n",
       "min      0.000000    0.000000  \n",
       "25%      0.000000    7.910400  \n",
       "50%      0.000000   14.454200  \n",
       "75%      0.000000   31.000000  \n",
       "max      6.000000  512.329200  "
      ]
     },
     "execution_count": 139,
     "metadata": {},
     "output_type": "execute_result"
    }
   ],
   "source": [
    "df.describe()"
   ]
  },
  {
   "cell_type": "code",
   "execution_count": 140,
   "metadata": {
    "execution": {
     "iopub.execute_input": "2024-12-13T12:37:06.841890Z",
     "iopub.status.busy": "2024-12-13T12:37:06.841602Z",
     "iopub.status.idle": "2024-12-13T12:37:06.850000Z",
     "shell.execute_reply": "2024-12-13T12:37:06.848988Z",
     "shell.execute_reply.started": "2024-12-13T12:37:06.841860Z"
    },
    "trusted": true
   },
   "outputs": [
    {
     "data": {
      "text/plain": [
       "PassengerId      0\n",
       "Survived         0\n",
       "Pclass           0\n",
       "Name             0\n",
       "Sex              0\n",
       "Age            177\n",
       "SibSp            0\n",
       "Parch            0\n",
       "Ticket           0\n",
       "Fare             0\n",
       "Cabin          687\n",
       "Embarked         2\n",
       "dtype: int64"
      ]
     },
     "execution_count": 140,
     "metadata": {},
     "output_type": "execute_result"
    }
   ],
   "source": [
    "df.isnull().sum()"
   ]
  },
  {
   "cell_type": "code",
   "execution_count": 141,
   "metadata": {
    "execution": {
     "iopub.execute_input": "2024-12-13T12:37:06.852386Z",
     "iopub.status.busy": "2024-12-13T12:37:06.852008Z",
     "iopub.status.idle": "2024-12-13T12:37:06.864803Z",
     "shell.execute_reply": "2024-12-13T12:37:06.863720Z",
     "shell.execute_reply.started": "2024-12-13T12:37:06.852334Z"
    },
    "trusted": true
   },
   "outputs": [
    {
     "name": "stdout",
     "output_type": "stream",
     "text": [
      "<class 'pandas.core.frame.DataFrame'>\n",
      "RangeIndex: 891 entries, 0 to 890\n",
      "Data columns (total 12 columns):\n",
      " #   Column       Non-Null Count  Dtype  \n",
      "---  ------       --------------  -----  \n",
      " 0   PassengerId  891 non-null    int64  \n",
      " 1   Survived     891 non-null    int64  \n",
      " 2   Pclass       891 non-null    int64  \n",
      " 3   Name         891 non-null    object \n",
      " 4   Sex          891 non-null    object \n",
      " 5   Age          714 non-null    float64\n",
      " 6   SibSp        891 non-null    int64  \n",
      " 7   Parch        891 non-null    int64  \n",
      " 8   Ticket       891 non-null    object \n",
      " 9   Fare         891 non-null    float64\n",
      " 10  Cabin        204 non-null    object \n",
      " 11  Embarked     889 non-null    object \n",
      "dtypes: float64(2), int64(5), object(5)\n",
      "memory usage: 83.7+ KB\n"
     ]
    }
   ],
   "source": [
    "df.info()"
   ]
  },
  {
   "cell_type": "markdown",
   "metadata": {},
   "source": [
    "# Аналитика"
   ]
  },
  {
   "cell_type": "markdown",
   "metadata": {},
   "source": [
    "## Зависимость от пола"
   ]
  },
  {
   "cell_type": "code",
   "execution_count": 142,
   "metadata": {
    "execution": {
     "iopub.execute_input": "2024-12-13T12:37:06.866558Z",
     "iopub.status.busy": "2024-12-13T12:37:06.866161Z",
     "iopub.status.idle": "2024-12-13T12:37:07.210077Z",
     "shell.execute_reply": "2024-12-13T12:37:07.209138Z",
     "shell.execute_reply.started": "2024-12-13T12:37:06.866516Z"
    },
    "trusted": true
   },
   "outputs": [
    {
     "data": {
      "image/png": "[encoded data removed]",
      "text/plain": [
       "<Figure size 572.111x500 with 1 Axes>"
      ]
     },
     "metadata": {},
     "output_type": "display_data"
    }
   ],
   "source": [
    "sns.catplot(x=\"Sex\", hue=\"Survived\", kind=\"count\", data=df)\n",
    "plt.title(\"Сравнение выживания мужчин и женщин\")\n",
    "plt.show()"
   ]
  },
  {
   "cell_type": "markdown",
   "metadata": {},
   "source": [
    "Женщины выживали намного чаще мужчин"
   ]
  },
  {
   "cell_type": "markdown",
   "metadata": {},
   "source": [
    "## Зависимость от возраста"
   ]
  },
  {
   "cell_type": "code",
   "execution_count": 143,
   "metadata": {
    "execution": {
     "iopub.execute_input": "2024-12-13T12:37:07.212035Z",
     "iopub.status.busy": "2024-12-13T12:37:07.211600Z",
     "iopub.status.idle": "2024-12-13T12:37:07.492250Z",
     "shell.execute_reply": "2024-12-13T12:37:07.491320Z",
     "shell.execute_reply.started": "2024-12-13T12:37:07.211991Z"
    },
    "trusted": true
   },
   "outputs": [
    {
     "data": {
      "image/png": "[encoded data removed]",
      "text/plain": [
       "<Figure size 640x480 with 1 Axes>"
      ]
     },
     "metadata": {},
     "output_type": "display_data"
    }
   ],
   "source": [
    "df['Age'] = df['Age'].fillna(df['Age'].median())\n",
    "\n",
    "sns.kdeplot(data=df, x=\"Age\", hue=\"Survived\", fill=True)\n",
    "plt.title(\"Сравнение выживания пассажиров в зависимости от возраста\")\n",
    "plt.show()"
   ]
  },
  {
   "cell_type": "markdown",
   "metadata": {},
   "source": [
    "Дети имели самы большие шансы выжить"
   ]
  },
  {
   "cell_type": "markdown",
   "metadata": {},
   "source": [
    "## Зависимость от класса"
   ]
  },
  {
   "cell_type": "code",
   "execution_count": 144,
   "metadata": {
    "execution": {
     "iopub.execute_input": "2024-12-13T12:37:07.493975Z",
     "iopub.status.busy": "2024-12-13T12:37:07.493694Z",
     "iopub.status.idle": "2024-12-13T12:37:07.869105Z",
     "shell.execute_reply": "2024-12-13T12:37:07.867999Z",
     "shell.execute_reply.started": "2024-12-13T12:37:07.493947Z"
    },
    "trusted": true
   },
   "outputs": [
    {
     "data": {
      "image/png": "[encoded data removed]",
      "text/plain": [
       "<Figure size 572.111x500 with 1 Axes>"
      ]
     },
     "metadata": {},
     "output_type": "display_data"
    }
   ],
   "source": [
    "sns.catplot(x=\"Pclass\", hue=\"Survived\", kind=\"count\", data=df)\n",
    "plt.title(\"Сравнение выживания пассажиров в зависимости от класса\")\n",
    "plt.show()"
   ]
  },
  {
   "cell_type": "markdown",
   "metadata": {},
   "source": [
    "В 1 классе шанс выжить >50%  \n",
    "Во 2 ~50%  \n",
    "В 3 <<50%"
   ]
  },
  {
   "cell_type": "markdown",
   "metadata": {},
   "source": [
    "## Зависимость от порта"
   ]
  },
  {
   "cell_type": "code",
   "execution_count": 145,
   "metadata": {
    "execution": {
     "iopub.execute_input": "2024-12-13T12:37:07.873349Z",
     "iopub.status.busy": "2024-12-13T12:37:07.872930Z",
     "iopub.status.idle": "2024-12-13T12:37:08.254543Z",
     "shell.execute_reply": "2024-12-13T12:37:08.253537Z",
     "shell.execute_reply.started": "2024-12-13T12:37:07.873314Z"
    },
    "trusted": true
   },
   "outputs": [
    {
     "data": {
      "image/png": "[encoded data removed]",
      "text/plain": [
       "<Figure size 572.111x500 with 1 Axes>"
      ]
     },
     "metadata": {},
     "output_type": "display_data"
    }
   ],
   "source": [
    "sns.catplot(x=\"Embarked\", hue=\"Survived\", kind=\"count\", data=df)\n",
    "plt.title(\"Сравнение выживания пассажиров в зависимости от порта\")\n",
    "plt.show()"
   ]
  },
  {
   "cell_type": "markdown",
   "metadata": {},
   "source": [
    "Люди севшие в порте C имели большие шансы"
   ]
  },
  {
   "cell_type": "markdown",
   "metadata": {},
   "source": [
    "### Зависимость от количества членов семьи"
   ]
  },
  {
   "cell_type": "code",
   "execution_count": 146,
   "metadata": {
    "execution": {
     "iopub.execute_input": "2024-12-13T12:37:08.256276Z",
     "iopub.status.busy": "2024-12-13T12:37:08.255936Z",
     "iopub.status.idle": "2024-12-13T12:37:08.645273Z",
     "shell.execute_reply": "2024-12-13T12:37:08.644272Z",
     "shell.execute_reply.started": "2024-12-13T12:37:08.256244Z"
    },
    "trusted": true
   },
   "outputs": [
    {
     "data": {
      "image/png": "[encoded data removed]",
      "text/plain": [
       "<Figure size 572.111x500 with 1 Axes>"
      ]
     },
     "metadata": {},
     "output_type": "display_data"
    }
   ],
   "source": [
    "df['Family_Size'] = df['SibSp'] + df['Parch']\n",
    "\n",
    "sns.catplot(x=\"Family_Size\", hue=\"Survived\", kind=\"count\", data=df)\n",
    "plt.title(\"Сравнение выживания пассажиров в зависимости от количества членов  семьи\")\n",
    "plt.show()"
   ]
  },
  {
   "cell_type": "markdown",
   "metadata": {},
   "source": [
    "Люди с семьей из одного,двух или трёх человек выживали значительно чаще других"
   ]
  },
  {
   "cell_type": "markdown",
   "metadata": {},
   "source": [
    "## Зависимость от платы"
   ]
  },
  {
   "cell_type": "code",
   "execution_count": 147,
   "metadata": {
    "execution": {
     "iopub.execute_input": "2024-12-13T12:37:08.647411Z",
     "iopub.status.busy": "2024-12-13T12:37:08.646684Z",
     "iopub.status.idle": "2024-12-13T12:37:08.974562Z",
     "shell.execute_reply": "2024-12-13T12:37:08.973595Z",
     "shell.execute_reply.started": "2024-12-13T12:37:08.647364Z"
    },
    "trusted": true
   },
   "outputs": [
    {
     "data": {
      "image/png": "[encoded data removed]",
      "text/plain": [
       "<Figure size 640x480 with 1 Axes>"
      ]
     },
     "metadata": {},
     "output_type": "display_data"
    }
   ],
   "source": [
    "sns.kdeplot(x=\"Fare\", hue=\"Survived\", data=df)\n",
    "plt.title(\"Сравнение выживания пассажиров в зависимости от платы\")\n",
    "plt.show()"
   ]
  },
  {
   "cell_type": "markdown",
   "metadata": {},
   "source": [
    "Чем выше плата за билет, тем больше шанс выжить, этио частично объясняется классом обслуживания"
   ]
  },
  {
   "cell_type": "markdown",
   "metadata": {},
   "source": [
    "## Зависимость от статуса"
   ]
  },
  {
   "cell_type": "code",
   "execution_count": 148,
   "metadata": {
    "execution": {
     "iopub.execute_input": "2024-12-13T12:37:08.976439Z",
     "iopub.status.busy": "2024-12-13T12:37:08.976007Z",
     "iopub.status.idle": "2024-12-13T12:37:08.988023Z",
     "shell.execute_reply": "2024-12-13T12:37:08.987006Z",
     "shell.execute_reply.started": "2024-12-13T12:37:08.976392Z"
    },
    "trusted": true
   },
   "outputs": [],
   "source": [
    "df['Status']  = df['Name'].map(lambda x: re.sub(r\".*(M[A-z]{,3}|Rev|Dr|Major|Master|Lady|Sir|Col|Capt|Countess|Don|Jonkheer)\\..*\", r\"\\1\", x))"
   ]
  },
  {
   "cell_type": "code",
   "execution_count": 149,
   "metadata": {
    "execution": {
     "iopub.execute_input": "2024-12-13T12:37:08.990182Z",
     "iopub.status.busy": "2024-12-13T12:37:08.989516Z",
     "iopub.status.idle": "2024-12-13T12:37:09.000714Z",
     "shell.execute_reply": "2024-12-13T12:37:08.999656Z",
     "shell.execute_reply.started": "2024-12-13T12:37:08.990113Z"
    },
    "trusted": true
   },
   "outputs": [
    {
     "data": {
      "text/plain": [
       "array(['Mr', 'Mrs', 'Miss', 'Master', 'Don', 'Rev', 'Dr', 'Mme', 'Ms',\n",
       "       'Major', 'Lady', 'Sir', 'Mlle', 'Col', 'Capt', 'Countess',\n",
       "       'Jonkheer'], dtype=object)"
      ]
     },
     "execution_count": 149,
     "metadata": {},
     "output_type": "execute_result"
    }
   ],
   "source": [
    "df['Status'].unique()"
   ]
  },
  {
   "cell_type": "code",
   "execution_count": 150,
   "metadata": {
    "execution": {
     "iopub.execute_input": "2024-12-13T12:37:09.002864Z",
     "iopub.status.busy": "2024-12-13T12:37:09.002446Z",
     "iopub.status.idle": "2024-12-13T12:37:09.496396Z",
     "shell.execute_reply": "2024-12-13T12:37:09.495455Z",
     "shell.execute_reply.started": "2024-12-13T12:37:09.002819Z"
    },
    "trusted": true
   },
   "outputs": [
    {
     "data": {
      "image/png": "[encoded data removed]",
      "text/plain": [
       "<Figure size 1300x500 with 1 Axes>"
      ]
     },
     "metadata": {},
     "output_type": "display_data"
    }
   ],
   "source": [
    "plt.figure(figsize=(13, 5))\n",
    "sns.barplot(data=df, x='Status', y='Survived')\n",
    "plt.title(\"Сравнение выживания пассажиров в зависимости от Статуса\")\n",
    "plt.show()"
   ]
  },
  {
   "cell_type": "markdown",
   "metadata": {},
   "source": [
    "Высокий статус так же коррелирует с дорогими билетами и высоким классом обслуживания, как следствие, с шансом выжить"
   ]
  },
  {
   "cell_type": "markdown",
   "metadata": {},
   "source": [
    "### Количество пассажиров в зависимости от Статуса"
   ]
  },
  {
   "cell_type": "code",
   "execution_count": 151,
   "metadata": {
    "execution": {
     "iopub.execute_input": "2024-12-13T12:37:09.995838Z",
     "iopub.status.busy": "2024-12-13T12:37:09.995425Z",
     "iopub.status.idle": "2024-12-13T12:37:10.012091Z",
     "shell.execute_reply": "2024-12-13T12:37:10.011053Z",
     "shell.execute_reply.started": "2024-12-13T12:37:09.995794Z"
    },
    "trusted": true
   },
   "outputs": [
    {
     "data": {
      "text/html": [
       "<div>\n",
       "<style scoped>\n",
       "    .dataframe tbody tr th:only-of-type {\n",
       "        vertical-align: middle;\n",
       "    }\n",
       "\n",
       "    .dataframe tbody tr th {\n",
       "        vertical-align: top;\n",
       "    }\n",
       "\n",
       "    .dataframe thead th {\n",
       "        text-align: right;\n",
       "    }\n",
       "</style>\n",
       "<table border=\"1\" class=\"dataframe\">\n",
       "  <thead>\n",
       "    <tr style=\"text-align: right;\">\n",
       "      <th></th>\n",
       "      <th>count</th>\n",
       "    </tr>\n",
       "    <tr>\n",
       "      <th>Status</th>\n",
       "      <th></th>\n",
       "    </tr>\n",
       "  </thead>\n",
       "  <tbody>\n",
       "    <tr>\n",
       "      <th>Mr</th>\n",
       "      <td>517</td>\n",
       "    </tr>\n",
       "    <tr>\n",
       "      <th>Miss</th>\n",
       "      <td>182</td>\n",
       "    </tr>\n",
       "    <tr>\n",
       "      <th>Mrs</th>\n",
       "      <td>125</td>\n",
       "    </tr>\n",
       "    <tr>\n",
       "      <th>Master</th>\n",
       "      <td>40</td>\n",
       "    </tr>\n",
       "    <tr>\n",
       "      <th>Dr</th>\n",
       "      <td>7</td>\n",
       "    </tr>\n",
       "    <tr>\n",
       "      <th>Rev</th>\n",
       "      <td>6</td>\n",
       "    </tr>\n",
       "    <tr>\n",
       "      <th>Mlle</th>\n",
       "      <td>2</td>\n",
       "    </tr>\n",
       "    <tr>\n",
       "      <th>Major</th>\n",
       "      <td>2</td>\n",
       "    </tr>\n",
       "    <tr>\n",
       "      <th>Col</th>\n",
       "      <td>2</td>\n",
       "    </tr>\n",
       "    <tr>\n",
       "      <th>Capt</th>\n",
       "      <td>1</td>\n",
       "    </tr>\n",
       "    <tr>\n",
       "      <th>Lady</th>\n",
       "      <td>1</td>\n",
       "    </tr>\n",
       "    <tr>\n",
       "      <th>Countess</th>\n",
       "      <td>1</td>\n",
       "    </tr>\n",
       "    <tr>\n",
       "      <th>Don</th>\n",
       "      <td>1</td>\n",
       "    </tr>\n",
       "    <tr>\n",
       "      <th>Jonkheer</th>\n",
       "      <td>1</td>\n",
       "    </tr>\n",
       "    <tr>\n",
       "      <th>Mme</th>\n",
       "      <td>1</td>\n",
       "    </tr>\n",
       "    <tr>\n",
       "      <th>Ms</th>\n",
       "      <td>1</td>\n",
       "    </tr>\n",
       "    <tr>\n",
       "      <th>Sir</th>\n",
       "      <td>1</td>\n",
       "    </tr>\n",
       "  </tbody>\n",
       "</table>\n",
       "</div>"
      ],
      "text/plain": [
       "          count\n",
       "Status         \n",
       "Mr          517\n",
       "Miss        182\n",
       "Mrs         125\n",
       "Master       40\n",
       "Dr            7\n",
       "Rev           6\n",
       "Mlle          2\n",
       "Major         2\n",
       "Col           2\n",
       "Capt          1\n",
       "Lady          1\n",
       "Countess      1\n",
       "Don           1\n",
       "Jonkheer      1\n",
       "Mme           1\n",
       "Ms            1\n",
       "Sir           1"
      ]
     },
     "execution_count": 151,
     "metadata": {},
     "output_type": "execute_result"
    }
   ],
   "source": [
    "df.groupby(\"Status\").agg(count=(\"Name\", \"count\")).sort_values(\"count\", ascending=False)"
   ]
  },
  {
   "cell_type": "markdown",
   "metadata": {},
   "source": [
    "# Feature Engineering"
   ]
  },
  {
   "cell_type": "markdown",
   "metadata": {},
   "source": [
    "Так как Family_Size = SibSp + Parch, они сильно коррелируют, поэтому мы уберем эти две колонки"
   ]
  },
  {
   "cell_type": "markdown",
   "metadata": {},
   "source": [
    "### Создаем колонку с размером семьи"
   ]
  },
  {
   "cell_type": "code",
   "execution_count": 152,
   "metadata": {},
   "outputs": [],
   "source": [
    "df['Family_Size'] = df['SibSp'] + df['Parch']"
   ]
  },
  {
   "cell_type": "markdown",
   "metadata": {},
   "source": [
    "### Удаляем  \n",
    "PassengerId - нумерация пассажиров, ничего не значит  \n",
    "Name - т.к. уже достали статус из имени  \n",
    "Cabin - Из 890 записей, всего 204 имеют заполненый столбец Cabin, слишком мало данных  \n",
    "\n",
    "  Так же есть проблема с билетами и их значением, попробуем составить 2 модели: с билетами и без"
   ]
  },
  {
   "cell_type": "code",
   "execution_count": 153,
   "metadata": {},
   "outputs": [],
   "source": [
    "df = df.drop(['PassengerId', 'Name', 'Cabin'], axis=1)"
   ]
  },
  {
   "cell_type": "code",
   "execution_count": 154,
   "metadata": {},
   "outputs": [],
   "source": [
    "def encode_series(le, series):\n",
    "    series = le.fit_transform(series)"
   ]
  },
  {
   "cell_type": "code",
   "execution_count": 155,
   "metadata": {},
   "outputs": [],
   "source": [
    "from sklearn.preprocessing import LabelEncoder\n",
    "\n",
    "le = LabelEncoder()\n",
    "df['Sex'] = le.fit_transform(df['Sex'])\n",
    "df['Status'] = le.fit_transform(df['Status'])\n",
    "df['Embarked'] = le.fit_transform(df['Embarked'])\n",
    "df['Ticket'] = le.fit_transform(df['Ticket'])"
   ]
  },
  {
   "cell_type": "code",
   "execution_count": 156,
   "metadata": {},
   "outputs": [
    {
     "data": {
      "text/html": [
       "<div>\n",
       "<style scoped>\n",
       "    .dataframe tbody tr th:only-of-type {\n",
       "        vertical-align: middle;\n",
       "    }\n",
       "\n",
       "    .dataframe tbody tr th {\n",
       "        vertical-align: top;\n",
       "    }\n",
       "\n",
       "    .dataframe thead th {\n",
       "        text-align: right;\n",
       "    }\n",
       "</style>\n",
       "<table border=\"1\" class=\"dataframe\">\n",
       "  <thead>\n",
       "    <tr style=\"text-align: right;\">\n",
       "      <th></th>\n",
       "      <th>Survived</th>\n",
       "      <th>Pclass</th>\n",
       "      <th>Sex</th>\n",
       "      <th>Age</th>\n",
       "      <th>SibSp</th>\n",
       "      <th>Parch</th>\n",
       "      <th>Ticket</th>\n",
       "      <th>Fare</th>\n",
       "      <th>Embarked</th>\n",
       "      <th>Family_Size</th>\n",
       "      <th>Status</th>\n",
       "    </tr>\n",
       "  </thead>\n",
       "  <tbody>\n",
       "    <tr>\n",
       "      <th>Survived</th>\n",
       "      <td>1.000000</td>\n",
       "      <td>-0.338481</td>\n",
       "      <td>-0.543351</td>\n",
       "      <td>-0.064910</td>\n",
       "      <td>-0.035322</td>\n",
       "      <td>0.081629</td>\n",
       "      <td>-0.164549</td>\n",
       "      <td>0.257307</td>\n",
       "      <td>-0.163517</td>\n",
       "      <td>0.016639</td>\n",
       "      <td>-0.201345</td>\n",
       "    </tr>\n",
       "    <tr>\n",
       "      <th>Pclass</th>\n",
       "      <td>-0.338481</td>\n",
       "      <td>1.000000</td>\n",
       "      <td>0.131900</td>\n",
       "      <td>-0.339898</td>\n",
       "      <td>0.083081</td>\n",
       "      <td>0.018443</td>\n",
       "      <td>0.319869</td>\n",
       "      <td>-0.549500</td>\n",
       "      <td>0.157112</td>\n",
       "      <td>0.065997</td>\n",
       "      <td>0.045541</td>\n",
       "    </tr>\n",
       "    <tr>\n",
       "      <th>Sex</th>\n",
       "      <td>-0.543351</td>\n",
       "      <td>0.131900</td>\n",
       "      <td>1.000000</td>\n",
       "      <td>0.081163</td>\n",
       "      <td>-0.114631</td>\n",
       "      <td>-0.245489</td>\n",
       "      <td>0.059372</td>\n",
       "      <td>-0.182333</td>\n",
       "      <td>0.104057</td>\n",
       "      <td>-0.200988</td>\n",
       "      <td>0.256407</td>\n",
       "    </tr>\n",
       "    <tr>\n",
       "      <th>Age</th>\n",
       "      <td>-0.064910</td>\n",
       "      <td>-0.339898</td>\n",
       "      <td>0.081163</td>\n",
       "      <td>1.000000</td>\n",
       "      <td>-0.233296</td>\n",
       "      <td>-0.172482</td>\n",
       "      <td>-0.070382</td>\n",
       "      <td>0.096688</td>\n",
       "      <td>-0.014205</td>\n",
       "      <td>-0.245619</td>\n",
       "      <td>0.272384</td>\n",
       "    </tr>\n",
       "    <tr>\n",
       "      <th>SibSp</th>\n",
       "      <td>-0.035322</td>\n",
       "      <td>0.083081</td>\n",
       "      <td>-0.114631</td>\n",
       "      <td>-0.233296</td>\n",
       "      <td>1.000000</td>\n",
       "      <td>0.414838</td>\n",
       "      <td>0.079461</td>\n",
       "      <td>0.159651</td>\n",
       "      <td>0.066654</td>\n",
       "      <td>0.890712</td>\n",
       "      <td>-0.191786</td>\n",
       "    </tr>\n",
       "    <tr>\n",
       "      <th>Parch</th>\n",
       "      <td>0.081629</td>\n",
       "      <td>0.018443</td>\n",
       "      <td>-0.245489</td>\n",
       "      <td>-0.172482</td>\n",
       "      <td>0.414838</td>\n",
       "      <td>1.000000</td>\n",
       "      <td>0.020003</td>\n",
       "      <td>0.216225</td>\n",
       "      <td>0.038322</td>\n",
       "      <td>0.783111</td>\n",
       "      <td>-0.119721</td>\n",
       "    </tr>\n",
       "    <tr>\n",
       "      <th>Ticket</th>\n",
       "      <td>-0.164549</td>\n",
       "      <td>0.319869</td>\n",
       "      <td>0.059372</td>\n",
       "      <td>-0.070382</td>\n",
       "      <td>0.079461</td>\n",
       "      <td>0.020003</td>\n",
       "      <td>1.000000</td>\n",
       "      <td>-0.013885</td>\n",
       "      <td>-0.006041</td>\n",
       "      <td>0.064302</td>\n",
       "      <td>0.025176</td>\n",
       "    </tr>\n",
       "    <tr>\n",
       "      <th>Fare</th>\n",
       "      <td>0.257307</td>\n",
       "      <td>-0.549500</td>\n",
       "      <td>-0.182333</td>\n",
       "      <td>0.096688</td>\n",
       "      <td>0.159651</td>\n",
       "      <td>0.216225</td>\n",
       "      <td>-0.013885</td>\n",
       "      <td>1.000000</td>\n",
       "      <td>-0.221226</td>\n",
       "      <td>0.217138</td>\n",
       "      <td>-0.086359</td>\n",
       "    </tr>\n",
       "    <tr>\n",
       "      <th>Embarked</th>\n",
       "      <td>-0.163517</td>\n",
       "      <td>0.157112</td>\n",
       "      <td>0.104057</td>\n",
       "      <td>-0.014205</td>\n",
       "      <td>0.066654</td>\n",
       "      <td>0.038322</td>\n",
       "      <td>-0.006041</td>\n",
       "      <td>-0.221226</td>\n",
       "      <td>1.000000</td>\n",
       "      <td>0.064701</td>\n",
       "      <td>0.065899</td>\n",
       "    </tr>\n",
       "    <tr>\n",
       "      <th>Family_Size</th>\n",
       "      <td>0.016639</td>\n",
       "      <td>0.065997</td>\n",
       "      <td>-0.200988</td>\n",
       "      <td>-0.245619</td>\n",
       "      <td>0.890712</td>\n",
       "      <td>0.783111</td>\n",
       "      <td>0.064302</td>\n",
       "      <td>0.217138</td>\n",
       "      <td>0.064701</td>\n",
       "      <td>1.000000</td>\n",
       "      <td>-0.190890</td>\n",
       "    </tr>\n",
       "    <tr>\n",
       "      <th>Status</th>\n",
       "      <td>-0.201345</td>\n",
       "      <td>0.045541</td>\n",
       "      <td>0.256407</td>\n",
       "      <td>0.272384</td>\n",
       "      <td>-0.191786</td>\n",
       "      <td>-0.119721</td>\n",
       "      <td>0.025176</td>\n",
       "      <td>-0.086359</td>\n",
       "      <td>0.065899</td>\n",
       "      <td>-0.190890</td>\n",
       "      <td>1.000000</td>\n",
       "    </tr>\n",
       "  </tbody>\n",
       "</table>\n",
       "</div>"
      ],
      "text/plain": [
       "             Survived    Pclass       Sex       Age     SibSp     Parch  \\\n",
       "Survived     1.000000 -0.338481 -0.543351 -0.064910 -0.035322  0.081629   \n",
       "Pclass      -0.338481  1.000000  0.131900 -0.339898  0.083081  0.018443   \n",
       "Sex         -0.543351  0.131900  1.000000  0.081163 -0.114631 -0.245489   \n",
       "Age         -0.064910 -0.339898  0.081163  1.000000 -0.233296 -0.172482   \n",
       "SibSp       -0.035322  0.083081 -0.114631 -0.233296  1.000000  0.414838   \n",
       "Parch        0.081629  0.018443 -0.245489 -0.172482  0.414838  1.000000   \n",
       "Ticket      -0.164549  0.319869  0.059372 -0.070382  0.079461  0.020003   \n",
       "Fare         0.257307 -0.549500 -0.182333  0.096688  0.159651  0.216225   \n",
       "Embarked    -0.163517  0.157112  0.104057 -0.014205  0.066654  0.038322   \n",
       "Family_Size  0.016639  0.065997 -0.200988 -0.245619  0.890712  0.783111   \n",
       "Status      -0.201345  0.045541  0.256407  0.272384 -0.191786 -0.119721   \n",
       "\n",
       "               Ticket      Fare  Embarked  Family_Size    Status  \n",
       "Survived    -0.164549  0.257307 -0.163517     0.016639 -0.201345  \n",
       "Pclass       0.319869 -0.549500  0.157112     0.065997  0.045541  \n",
       "Sex          0.059372 -0.182333  0.104057    -0.200988  0.256407  \n",
       "Age         -0.070382  0.096688 -0.014205    -0.245619  0.272384  \n",
       "SibSp        0.079461  0.159651  0.066654     0.890712 -0.191786  \n",
       "Parch        0.020003  0.216225  0.038322     0.783111 -0.119721  \n",
       "Ticket       1.000000 -0.013885 -0.006041     0.064302  0.025176  \n",
       "Fare        -0.013885  1.000000 -0.221226     0.217138 -0.086359  \n",
       "Embarked    -0.006041 -0.221226  1.000000     0.064701  0.065899  \n",
       "Family_Size  0.064302  0.217138  0.064701     1.000000 -0.190890  \n",
       "Status       0.025176 -0.086359  0.065899    -0.190890  1.000000  "
      ]
     },
     "execution_count": 156,
     "metadata": {},
     "output_type": "execute_result"
    }
   ],
   "source": [
    "df.corr()"
   ]
  },
  {
   "cell_type": "markdown",
   "metadata": {},
   "source": [
    "## Заполняем пропуски в возрасте медианным значением"
   ]
  },
  {
   "cell_type": "code",
   "execution_count": 157,
   "metadata": {},
   "outputs": [],
   "source": [
    "df = df.drop(['Parch', 'SibSp'], axis=1)"
   ]
  },
  {
   "cell_type": "code",
   "execution_count": 158,
   "metadata": {
    "execution": {
     "iopub.execute_input": "2024-12-13T12:37:10.013995Z",
     "iopub.status.busy": "2024-12-13T12:37:10.013564Z",
     "iopub.status.idle": "2024-12-13T12:37:10.024262Z",
     "shell.execute_reply": "2024-12-13T12:37:10.023186Z",
     "shell.execute_reply.started": "2024-12-13T12:37:10.013946Z"
    },
    "trusted": true
   },
   "outputs": [],
   "source": [
    "df['Age'] = df['Age'].fillna(df['Age'].median())\n",
    "df['Embarked'] = df['Embarked'].fillna('S')"
   ]
  },
  {
   "cell_type": "code",
   "execution_count": 159,
   "metadata": {
    "execution": {
     "iopub.execute_input": "2024-12-13T12:37:10.081451Z",
     "iopub.status.busy": "2024-12-13T12:37:10.081107Z",
     "iopub.status.idle": "2024-12-13T12:37:10.103554Z",
     "shell.execute_reply": "2024-12-13T12:37:10.102484Z",
     "shell.execute_reply.started": "2024-12-13T12:37:10.081419Z"
    },
    "trusted": true
   },
   "outputs": [
    {
     "data": {
      "text/plain": [
       "{'Survived': array([0, 1]),\n",
       " 'Pclass': array([3, 1, 2]),\n",
       " 'Sex': array([1, 0]),\n",
       " 'Ticket': array([523, 596, 669,  49, 472, 275,  85, 395, 344, 132, 616,  38, 535,\n",
       "        333, 413, 153, 480, 151, 301, 184, 139, 152, 278,  42, 329, 179,\n",
       "         95, 283, 362, 598, 586, 288, 549, 600,  43, 202, 514, 302, 186,\n",
       "        507,  53, 391, 634, 282, 617, 462,  76, 190, 377, 249, 522, 587,\n",
       "        239,  29,  94, 555, 215, 561, 566, 197,  32, 457, 337, 601, 189,\n",
       "        553, 623, 248, 270, 557, 621, 204,  80, 347, 355, 473, 158, 432,\n",
       "        304, 311, 280,  25, 637, 247, 676, 652, 297, 298, 341, 678, 548,\n",
       "        428, 475, 607, 612, 117, 150, 384, 361, 417, 505, 245, 354, 296,\n",
       "        254, 388, 469,   2, 193, 274, 491, 176, 666, 460, 585, 540, 219,\n",
       "        463, 541, 196, 318, 380, 640, 537, 111, 552, 630,  55, 504, 592,\n",
       "        203, 332, 668, 438, 118, 558, 405, 113, 147, 622,  36, 516, 538,\n",
       "        573, 595, 418, 654, 258, 568, 470, 559, 323, 265, 423,  28, 576,\n",
       "          5, 659,  90, 412, 488, 593, 169, 574, 629, 114, 271,  34, 459,\n",
       "         11, 435, 386, 122, 227, 406, 604, 452, 494, 461, 160, 306, 242,\n",
       "        177, 530, 316, 216, 445,  17, 642, 570, 526, 163, 443, 416, 670,\n",
       "        142,  63, 679, 653, 105, 102, 375,  93, 615, 672, 525, 125, 322,\n",
       "        128, 554, 677, 198, 556, 231, 636, 444, 674, 658, 213,  92, 325,\n",
       "        166,  54, 144, 422,  31, 536, 458, 185, 589,   0, 608, 115, 482,\n",
       "          1,  16, 478, 546, 334, 588, 613,  47, 162, 594, 465,  71, 326,\n",
       "        135, 551, 290, 340, 310, 533,  24, 378, 308, 353, 134, 464,  91,\n",
       "         64, 635, 376, 374, 606, 212,  37,  98, 513, 441, 109, 527,  83,\n",
       "        611, 575, 584,  59, 602, 167, 382, 571, 343, 232, 453,  81, 524,\n",
       "        365, 124, 299, 229,   7,  20, 605, 370, 510,  39, 159, 149, 112,\n",
       "        157, 257, 483, 562, 262, 503,  30, 214, 182, 314, 131, 279, 285,\n",
       "        633, 211, 641, 544,   4, 175,  78, 581,  58, 244, 273, 545,  27,\n",
       "        183, 324, 610, 187, 665, 371, 220, 447, 625,  33, 401, 246, 410,\n",
       "        414, 226, 146, 140, 663, 292, 492, 267, 230, 321, 237, 255, 367,\n",
       "        487, 655, 295, 224, 168, 225, 307, 392, 534, 259, 331, 521, 100,\n",
       "        170, 437, 644,   3, 476, 627, 657,  72, 547, 305, 328, 116, 499,\n",
       "        289,  45, 194,  40, 497,  22,  84, 528, 379,  73,  86, 572, 468,\n",
       "         96, 429,   6, 121, 539, 639,  44, 421, 272, 263, 628, 509, 252,\n",
       "        315, 411, 251, 136, 531, 489,  61, 517, 498, 649,  41, 603, 518,\n",
       "        454, 564, 402, 261, 433, 276, 490, 180,  10, 542, 479, 648, 577,\n",
       "        599, 356, 456, 560, 110, 381,  67, 390, 173, 217, 446, 673, 583,\n",
       "        250, 235, 181, 210, 260,  21, 614, 426,  75, 680, 233, 501, 631,\n",
       "        148, 284, 171, 335,  52,  57, 300, 471, 389, 103, 651, 645, 519,\n",
       "        352, 207, 415, 624,  60, 578,  77, 520, 420, 143, 209, 661, 133,\n",
       "         68, 291, 129,  74,  79, 515, 656, 532, 434, 626, 155, 192, 360,\n",
       "         46, 430,   9, 396, 385,  50, 638, 467, 431, 106, 253, 188,  56,\n",
       "        400, 495, 455, 104, 369, 286, 218, 345,  70,  13, 130, 664, 409,\n",
       "        373,  69, 620, 567, 366, 512, 277, 439, 368, 241, 172, 496, 357,\n",
       "        660, 123, 256, 529,  99, 240, 569, 550, 145, 138, 397, 294, 493,\n",
       "        281, 500, 372, 403, 141,  89, 393, 200,  48, 156, 425, 419, 346,\n",
       "        579, 449, 398, 108, 580, 582,  19, 506, 164, 348, 293, 440, 319,\n",
       "        408,  65, 161,  51, 266, 451, 127, 667, 137, 228, 119, 349, 364,\n",
       "         82, 477, 662, 165,  35, 287, 234, 486, 312, 351, 404, 238, 424,\n",
       "        646, 191, 327,  18, 436, 511, 313, 407, 619, 201, 236, 330, 481,\n",
       "        450, 208,  26, 675, 643, 474, 243,  66, 597, 350, 223,  87, 383,\n",
       "        206, 174, 338, 320,  12, 336, 154, 339, 222, 427,  15, 671, 618,\n",
       "        543, 269,  97, 448, 442, 199, 342, 107, 609, 268, 485,  62, 647,\n",
       "        205, 264, 563, 359, 317, 591, 484,  23, 178, 399, 221,  88, 120,\n",
       "        126, 632, 590, 309, 387, 502, 303, 195, 358, 363, 394, 508, 565,\n",
       "        650, 101,  14,   8, 466]),\n",
       " 'Embarked': array([2, 0, 1, 3]),\n",
       " 'Family_Size': array([ 1,  0,  4,  2,  6,  5,  3,  7, 10]),\n",
       " 'Status': array([12, 13,  9,  8,  3, 15,  4, 11, 14,  7,  6, 16, 10,  1,  0,  2,  5])}"
      ]
     },
     "execution_count": 159,
     "metadata": {},
     "output_type": "execute_result"
    }
   ],
   "source": [
    "{column: df[column].unique() for column in df.drop(['Age', 'Fare'], axis=1).columns}\n",
    "# Проверка коректности кодировки"
   ]
  },
  {
   "cell_type": "markdown",
   "metadata": {},
   "source": [
    "# Создание модели"
   ]
  },
  {
   "cell_type": "code",
   "execution_count": 160,
   "metadata": {
    "execution": {
     "iopub.execute_input": "2024-12-13T12:37:10.105150Z",
     "iopub.status.busy": "2024-12-13T12:37:10.104819Z",
     "iopub.status.idle": "2024-12-13T12:37:10.115645Z",
     "shell.execute_reply": "2024-12-13T12:37:10.114573Z",
     "shell.execute_reply.started": "2024-12-13T12:37:10.105098Z"
    },
    "trusted": true
   },
   "outputs": [],
   "source": [
    "X = df.drop(columns=['Survived'], axis=1)\n",
    "y = df['Survived']"
   ]
  },
  {
   "cell_type": "code",
   "execution_count": 161,
   "metadata": {
    "execution": {
     "iopub.execute_input": "2024-12-13T12:37:10.117603Z",
     "iopub.status.busy": "2024-12-13T12:37:10.116935Z",
     "iopub.status.idle": "2024-12-13T12:37:10.127195Z",
     "shell.execute_reply": "2024-12-13T12:37:10.126019Z",
     "shell.execute_reply.started": "2024-12-13T12:37:10.117551Z"
    },
    "trusted": true
   },
   "outputs": [],
   "source": [
    "def get_model1():\n",
    "    model = Sequential()\n",
    "    model.add(Dense(64, activation='leaky_relu', input_shape=(X_train.shape[1],)))\n",
    "    model.add(Dense(1,activation = 'sigmoid' ))\n",
    "    # Compile the model\n",
    "    model.compile(optimizer='adam', loss='binary_crossentropy', metrics=['accuracy'])\n",
    "    \n",
    "    return model"
   ]
  },
  {
   "cell_type": "code",
   "execution_count": 162,
   "metadata": {
    "execution": {
     "iopub.execute_input": "2024-12-13T12:37:10.128857Z",
     "iopub.status.busy": "2024-12-13T12:37:10.128524Z",
     "iopub.status.idle": "2024-12-13T12:37:10.144402Z",
     "shell.execute_reply": "2024-12-13T12:37:10.143069Z",
     "shell.execute_reply.started": "2024-12-13T12:37:10.128825Z"
    },
    "trusted": true
   },
   "outputs": [],
   "source": [
    "def get_model2():\n",
    "    model = Sequential()\n",
    "    model.add(Dense(32, activation='relu', input_shape=(X_train.shape[1],)))\n",
    "    model.add(Dense(16, activation='relu'))\n",
    "    model.add(Dense(8, activation='relu'))\n",
    "    model.add(Dropout(0.8))\n",
    "    model.add(Dense(1, activation='sigmoid'))\n",
    "\n",
    "    # Compile the model\n",
    "    model.compile(optimizer='adam', loss='binary_crossentropy', metrics=['accuracy'])\n",
    "    \n",
    "    return model"
   ]
  },
  {
   "cell_type": "code",
   "execution_count": 163,
   "metadata": {
    "execution": {
     "iopub.execute_input": "2024-12-13T12:37:10.146073Z",
     "iopub.status.busy": "2024-12-13T12:37:10.145762Z",
     "iopub.status.idle": "2024-12-13T12:37:10.165210Z",
     "shell.execute_reply": "2024-12-13T12:37:10.164336Z",
     "shell.execute_reply.started": "2024-12-13T12:37:10.146042Z"
    },
    "trusted": true
   },
   "outputs": [],
   "source": [
    "import numpy as np\n",
    "from sklearn.model_selection import train_test_split\n",
    "from sklearn.datasets import make_classification\n",
    "from sklearn.preprocessing import StandardScaler\n",
    "from keras.models import Sequential\n",
    "from keras.layers import Dense, Dropout, BatchNormalization\n",
    "from keras.optimizers import Adam\n",
    "\n",
    "\n",
    "# Train-test split\n",
    "X_train, X_test, y_train, y_test = train_test_split(X, y, test_size=0.2, random_state=42)\n",
    "\n",
    "# Standardize the data\n",
    "scaler = StandardScaler()\n",
    "X_train = scaler.fit_transform(X_train)\n",
    "X_test = scaler.transform(X_test)"
   ]
  },
  {
   "cell_type": "code",
   "execution_count": 164,
   "metadata": {
    "execution": {
     "iopub.execute_input": "2024-12-13T12:37:10.166858Z",
     "iopub.status.busy": "2024-12-13T12:37:10.166551Z",
     "iopub.status.idle": "2024-12-13T12:37:13.812015Z",
     "shell.execute_reply": "2024-12-13T12:37:13.810875Z",
     "shell.execute_reply.started": "2024-12-13T12:37:10.166827Z"
    },
    "trusted": true
   },
   "outputs": [
    {
     "name": "stdout",
     "output_type": "stream",
     "text": [
      "Epoch 1/32\n"
     ]
    },
    {
     "name": "stderr",
     "output_type": "stream",
     "text": [
      "C:\\Users\\SystemX\\AppData\\Roaming\\Python\\Python312\\site-packages\\keras\\src\\layers\\core\\dense.py:87: UserWarning: Do not pass an `input_shape`/`input_dim` argument to a layer. When using Sequential models, prefer using an `Input(shape)` object as the first layer in the model instead.\n",
      "  super().__init__(activity_regularizer=activity_regularizer, **kwargs)\n"
     ]
    },
    {
     "name": "stdout",
     "output_type": "stream",
     "text": [
      "\u001b[1m18/18\u001b[0m \u001b[32m━━━━━━━━━━━━━━━━━━━━\u001b[0m\u001b[37m\u001b[0m \u001b[1m1s\u001b[0m 13ms/step - accuracy: 0.6870 - loss: 0.6613 - val_accuracy: 0.7972 - val_loss: 0.5814\n",
      "Epoch 2/32\n",
      "\u001b[1m18/18\u001b[0m \u001b[32m━━━━━━━━━━━━━━━━━━━━\u001b[0m\u001b[37m\u001b[0m \u001b[1m0s\u001b[0m 5ms/step - accuracy: 0.7777 - loss: 0.5859 - val_accuracy: 0.8322 - val_loss: 0.5149\n",
      "Epoch 3/32\n",
      "\u001b[1m18/18\u001b[0m \u001b[32m━━━━━━━━━━━━━━━━━━━━\u001b[0m\u001b[37m\u001b[0m \u001b[1m0s\u001b[0m 5ms/step - accuracy: 0.7882 - loss: 0.5500 - val_accuracy: 0.8671 - val_loss: 0.4730\n",
      "Epoch 4/32\n",
      "\u001b[1m18/18\u001b[0m \u001b[32m━━━━━━━━━━━━━━━━━━━━\u001b[0m\u001b[37m\u001b[0m \u001b[1m0s\u001b[0m 5ms/step - accuracy: 0.8017 - loss: 0.5115 - val_accuracy: 0.8601 - val_loss: 0.4454\n",
      "Epoch 5/32\n",
      "\u001b[1m18/18\u001b[0m \u001b[32m━━━━━━━━━━━━━━━━━━━━\u001b[0m\u001b[37m\u001b[0m \u001b[1m0s\u001b[0m 5ms/step - accuracy: 0.7975 - loss: 0.4883 - val_accuracy: 0.8671 - val_loss: 0.4274\n",
      "Epoch 6/32\n",
      "\u001b[1m18/18\u001b[0m \u001b[32m━━━━━━━━━━━━━━━━━━━━\u001b[0m\u001b[37m\u001b[0m \u001b[1m0s\u001b[0m 5ms/step - accuracy: 0.8050 - loss: 0.4563 - val_accuracy: 0.8601 - val_loss: 0.4161\n",
      "Epoch 7/32\n",
      "\u001b[1m18/18\u001b[0m \u001b[32m━━━━━━━━━━━━━━━━━━━━\u001b[0m\u001b[37m\u001b[0m \u001b[1m0s\u001b[0m 5ms/step - accuracy: 0.7851 - loss: 0.4665 - val_accuracy: 0.8811 - val_loss: 0.4085\n",
      "Epoch 8/32\n",
      "\u001b[1m18/18\u001b[0m \u001b[32m━━━━━━━━━━━━━━━━━━━━\u001b[0m\u001b[37m\u001b[0m \u001b[1m0s\u001b[0m 5ms/step - accuracy: 0.8041 - loss: 0.4674 - val_accuracy: 0.8671 - val_loss: 0.4028\n",
      "Epoch 9/32\n",
      "\u001b[1m18/18\u001b[0m \u001b[32m━━━━━━━━━━━━━━━━━━━━\u001b[0m\u001b[37m\u001b[0m \u001b[1m0s\u001b[0m 5ms/step - accuracy: 0.7906 - loss: 0.4541 - val_accuracy: 0.8601 - val_loss: 0.3982\n",
      "Epoch 10/32\n",
      "\u001b[1m18/18\u001b[0m \u001b[32m━━━━━━━━━━━━━━━━━━━━\u001b[0m\u001b[37m\u001b[0m \u001b[1m0s\u001b[0m 5ms/step - accuracy: 0.8047 - loss: 0.4389 - val_accuracy: 0.8531 - val_loss: 0.3930\n",
      "Epoch 11/32\n",
      "\u001b[1m18/18\u001b[0m \u001b[32m━━━━━━━━━━━━━━━━━━━━\u001b[0m\u001b[37m\u001b[0m \u001b[1m0s\u001b[0m 5ms/step - accuracy: 0.8158 - loss: 0.4477 - val_accuracy: 0.8601 - val_loss: 0.3929\n",
      "Epoch 12/32\n",
      "\u001b[1m18/18\u001b[0m \u001b[32m━━━━━━━━━━━━━━━━━━━━\u001b[0m\u001b[37m\u001b[0m \u001b[1m0s\u001b[0m 5ms/step - accuracy: 0.7988 - loss: 0.4473 - val_accuracy: 0.8462 - val_loss: 0.3921\n",
      "Epoch 13/32\n",
      "\u001b[1m18/18\u001b[0m \u001b[32m━━━━━━━━━━━━━━━━━━━━\u001b[0m\u001b[37m\u001b[0m \u001b[1m0s\u001b[0m 5ms/step - accuracy: 0.8069 - loss: 0.4491 - val_accuracy: 0.8462 - val_loss: 0.3893\n",
      "Epoch 14/32\n",
      "\u001b[1m18/18\u001b[0m \u001b[32m━━━━━━━━━━━━━━━━━━━━\u001b[0m\u001b[37m\u001b[0m \u001b[1m0s\u001b[0m 6ms/step - accuracy: 0.7905 - loss: 0.4670 - val_accuracy: 0.8462 - val_loss: 0.3896\n",
      "Epoch 15/32\n",
      "\u001b[1m18/18\u001b[0m \u001b[32m━━━━━━━━━━━━━━━━━━━━\u001b[0m\u001b[37m\u001b[0m \u001b[1m0s\u001b[0m 5ms/step - accuracy: 0.8084 - loss: 0.4326 - val_accuracy: 0.8462 - val_loss: 0.3887\n",
      "Epoch 16/32\n",
      "\u001b[1m18/18\u001b[0m \u001b[32m━━━━━━━━━━━━━━━━━━━━\u001b[0m\u001b[37m\u001b[0m \u001b[1m0s\u001b[0m 5ms/step - accuracy: 0.8205 - loss: 0.4105 - val_accuracy: 0.8462 - val_loss: 0.3871\n",
      "Epoch 17/32\n",
      "\u001b[1m18/18\u001b[0m \u001b[32m━━━━━━━━━━━━━━━━━━━━\u001b[0m\u001b[37m\u001b[0m \u001b[1m0s\u001b[0m 5ms/step - accuracy: 0.8377 - loss: 0.4160 - val_accuracy: 0.8462 - val_loss: 0.3862\n",
      "Epoch 18/32\n",
      "\u001b[1m18/18\u001b[0m \u001b[32m━━━━━━━━━━━━━━━━━━━━\u001b[0m\u001b[37m\u001b[0m \u001b[1m0s\u001b[0m 5ms/step - accuracy: 0.8198 - loss: 0.4302 - val_accuracy: 0.8531 - val_loss: 0.3862\n",
      "Epoch 19/32\n",
      "\u001b[1m18/18\u001b[0m \u001b[32m━━━━━━━━━━━━━━━━━━━━\u001b[0m\u001b[37m\u001b[0m \u001b[1m0s\u001b[0m 5ms/step - accuracy: 0.8434 - loss: 0.4049 - val_accuracy: 0.8601 - val_loss: 0.3858\n",
      "Epoch 20/32\n",
      "\u001b[1m18/18\u001b[0m \u001b[32m━━━━━━━━━━━━━━━━━━━━\u001b[0m\u001b[37m\u001b[0m \u001b[1m0s\u001b[0m 5ms/step - accuracy: 0.8024 - loss: 0.4513 - val_accuracy: 0.8531 - val_loss: 0.3878\n",
      "Epoch 21/32\n",
      "\u001b[1m18/18\u001b[0m \u001b[32m━━━━━━━━━━━━━━━━━━━━\u001b[0m\u001b[37m\u001b[0m \u001b[1m0s\u001b[0m 5ms/step - accuracy: 0.8263 - loss: 0.4224 - val_accuracy: 0.8462 - val_loss: 0.3864\n",
      "Epoch 22/32\n",
      "\u001b[1m18/18\u001b[0m \u001b[32m━━━━━━━━━━━━━━━━━━━━\u001b[0m\u001b[37m\u001b[0m \u001b[1m0s\u001b[0m 5ms/step - accuracy: 0.8442 - loss: 0.3836 - val_accuracy: 0.8601 - val_loss: 0.3851\n",
      "Epoch 23/32\n",
      "\u001b[1m18/18\u001b[0m \u001b[32m━━━━━━━━━━━━━━━━━━━━\u001b[0m\u001b[37m\u001b[0m \u001b[1m0s\u001b[0m 5ms/step - accuracy: 0.8385 - loss: 0.4041 - val_accuracy: 0.8531 - val_loss: 0.3856\n",
      "Epoch 24/32\n",
      "\u001b[1m18/18\u001b[0m \u001b[32m━━━━━━━━━━━━━━━━━━━━\u001b[0m\u001b[37m\u001b[0m \u001b[1m0s\u001b[0m 5ms/step - accuracy: 0.8376 - loss: 0.4029 - val_accuracy: 0.8601 - val_loss: 0.3851\n",
      "Epoch 25/32\n",
      "\u001b[1m18/18\u001b[0m \u001b[32m━━━━━━━━━━━━━━━━━━━━\u001b[0m\u001b[37m\u001b[0m \u001b[1m0s\u001b[0m 5ms/step - accuracy: 0.8149 - loss: 0.4172 - val_accuracy: 0.8601 - val_loss: 0.3844\n",
      "Epoch 26/32\n",
      "\u001b[1m18/18\u001b[0m \u001b[32m━━━━━━━━━━━━━━━━━━━━\u001b[0m\u001b[37m\u001b[0m \u001b[1m0s\u001b[0m 5ms/step - accuracy: 0.8388 - loss: 0.4019 - val_accuracy: 0.8601 - val_loss: 0.3846\n",
      "Epoch 27/32\n",
      "\u001b[1m18/18\u001b[0m \u001b[32m━━━━━━━━━━━━━━━━━━━━\u001b[0m\u001b[37m\u001b[0m \u001b[1m0s\u001b[0m 5ms/step - accuracy: 0.8413 - loss: 0.3819 - val_accuracy: 0.8531 - val_loss: 0.3851\n",
      "Epoch 28/32\n",
      "\u001b[1m18/18\u001b[0m \u001b[32m━━━━━━━━━━━━━━━━━━━━\u001b[0m\u001b[37m\u001b[0m \u001b[1m0s\u001b[0m 5ms/step - accuracy: 0.8222 - loss: 0.4246 - val_accuracy: 0.8601 - val_loss: 0.3863\n",
      "Epoch 29/32\n",
      "\u001b[1m18/18\u001b[0m \u001b[32m━━━━━━━━━━━━━━━━━━━━\u001b[0m\u001b[37m\u001b[0m \u001b[1m0s\u001b[0m 5ms/step - accuracy: 0.8425 - loss: 0.4011 - val_accuracy: 0.8531 - val_loss: 0.3846\n",
      "Epoch 30/32\n",
      "\u001b[1m18/18\u001b[0m \u001b[32m━━━━━━━━━━━━━━━━━━━━\u001b[0m\u001b[37m\u001b[0m \u001b[1m0s\u001b[0m 5ms/step - accuracy: 0.8455 - loss: 0.3974 - val_accuracy: 0.8531 - val_loss: 0.3841\n",
      "Epoch 31/32\n",
      "\u001b[1m18/18\u001b[0m \u001b[32m━━━━━━━━━━━━━━━━━━━━\u001b[0m\u001b[37m\u001b[0m \u001b[1m0s\u001b[0m 5ms/step - accuracy: 0.8428 - loss: 0.3924 - val_accuracy: 0.8462 - val_loss: 0.3853\n",
      "Epoch 32/32\n",
      "\u001b[1m18/18\u001b[0m \u001b[32m━━━━━━━━━━━━━━━━━━━━\u001b[0m\u001b[37m\u001b[0m \u001b[1m0s\u001b[0m 5ms/step - accuracy: 0.8346 - loss: 0.4040 - val_accuracy: 0.8531 - val_loss: 0.3846\n",
      "\u001b[1m6/6\u001b[0m \u001b[32m━━━━━━━━━━━━━━━━━━━━\u001b[0m\u001b[37m\u001b[0m \u001b[1m0s\u001b[0m 7ms/step - accuracy: 0.8306 - loss: 0.4073 \n",
      "Test Accuracy: 0.81\n"
     ]
    },
    {
     "data": {
      "image/png": "[encoded data removed]",
      "text/plain": [
       "<Figure size 640x480 with 1 Axes>"
      ]
     },
     "metadata": {},
     "output_type": "display_data"
    }
   ],
   "source": [
    "import matplotlib.pyplot as plt\n",
    "%matplotlib inline\n",
    "model = get_model1()\n",
    "history = model.fit(X_train, y_train, epochs=32, batch_size=32, validation_split=0.2)\n",
    "loss, accuracy = model.evaluate(X_test, y_test)\n",
    "print(f'Test Accuracy: {accuracy:.2f}')\n",
    "plt.plot(history.history['loss'])\n",
    "plt.plot(history.history['val_loss'])\n",
    "plt.title('model loss')\n",
    "plt.ylabel('loss')\n",
    "plt.xlabel('epoch')\n",
    "plt.legend(['train', 'val'], loc='upper left')\n",
    "plt.show()"
   ]
  },
  {
   "cell_type": "code",
   "execution_count": 165,
   "metadata": {
    "execution": {
     "iopub.execute_input": "2024-12-13T12:37:13.813729Z",
     "iopub.status.busy": "2024-12-13T12:37:13.813387Z",
     "iopub.status.idle": "2024-12-13T12:37:17.732300Z",
     "shell.execute_reply": "2024-12-13T12:37:17.731328Z",
     "shell.execute_reply.started": "2024-12-13T12:37:13.813694Z"
    },
    "trusted": true
   },
   "outputs": [
    {
     "name": "stdout",
     "output_type": "stream",
     "text": [
      "Epoch 1/32\n",
      "\u001b[1m9/9\u001b[0m \u001b[32m━━━━━━━━━━━━━━━━━━━━\u001b[0m\u001b[37m\u001b[0m \u001b[1m1s\u001b[0m 27ms/step - accuracy: 0.5983 - loss: 0.6821 - val_accuracy: 0.4825 - val_loss: 0.6927\n",
      "Epoch 2/32\n",
      "\u001b[1m9/9\u001b[0m \u001b[32m━━━━━━━━━━━━━━━━━━━━\u001b[0m\u001b[37m\u001b[0m \u001b[1m0s\u001b[0m 9ms/step - accuracy: 0.5683 - loss: 0.6889 - val_accuracy: 0.6294 - val_loss: 0.6812\n",
      "Epoch 3/32\n",
      "\u001b[1m9/9\u001b[0m \u001b[32m━━━━━━━━━━━━━━━━━━━━\u001b[0m\u001b[37m\u001b[0m \u001b[1m0s\u001b[0m 9ms/step - accuracy: 0.5841 - loss: 0.6895 - val_accuracy: 0.6923 - val_loss: 0.6663\n",
      "Epoch 4/32\n",
      "\u001b[1m9/9\u001b[0m \u001b[32m━━━━━━━━━━━━━━━━━━━━\u001b[0m\u001b[37m\u001b[0m \u001b[1m0s\u001b[0m 9ms/step - accuracy: 0.6230 - loss: 0.6809 - val_accuracy: 0.7133 - val_loss: 0.6513\n",
      "Epoch 5/32\n",
      "\u001b[1m9/9\u001b[0m \u001b[32m━━━━━━━━━━━━━━━━━━━━\u001b[0m\u001b[37m\u001b[0m \u001b[1m0s\u001b[0m 9ms/step - accuracy: 0.6408 - loss: 0.6573 - val_accuracy: 0.7483 - val_loss: 0.6381\n",
      "Epoch 6/32\n",
      "\u001b[1m9/9\u001b[0m \u001b[32m━━━━━━━━━━━━━━━━━━━━\u001b[0m\u001b[37m\u001b[0m \u001b[1m0s\u001b[0m 9ms/step - accuracy: 0.6629 - loss: 0.6660 - val_accuracy: 0.7902 - val_loss: 0.6273\n",
      "Epoch 7/32\n",
      "\u001b[1m9/9\u001b[0m \u001b[32m━━━━━━━━━━━━━━━━━━━━\u001b[0m\u001b[37m\u001b[0m \u001b[1m0s\u001b[0m 9ms/step - accuracy: 0.6458 - loss: 0.6499 - val_accuracy: 0.8042 - val_loss: 0.6198\n",
      "Epoch 8/32\n",
      "\u001b[1m9/9\u001b[0m \u001b[32m━━━━━━━━━━━━━━━━━━━━\u001b[0m\u001b[37m\u001b[0m \u001b[1m0s\u001b[0m 10ms/step - accuracy: 0.6744 - loss: 0.6494 - val_accuracy: 0.7972 - val_loss: 0.6143\n",
      "Epoch 9/32\n",
      "\u001b[1m9/9\u001b[0m \u001b[32m━━━━━━━━━━━━━━━━━━━━\u001b[0m\u001b[37m\u001b[0m \u001b[1m0s\u001b[0m 9ms/step - accuracy: 0.6254 - loss: 0.6426 - val_accuracy: 0.7832 - val_loss: 0.6049\n",
      "Epoch 10/32\n",
      "\u001b[1m9/9\u001b[0m \u001b[32m━━━━━━━━━━━━━━━━━━━━\u001b[0m\u001b[37m\u001b[0m \u001b[1m0s\u001b[0m 9ms/step - accuracy: 0.7080 - loss: 0.6259 - val_accuracy: 0.7832 - val_loss: 0.5982\n",
      "Epoch 11/32\n",
      "\u001b[1m9/9\u001b[0m \u001b[32m━━━━━━━━━━━━━━━━━━━━\u001b[0m\u001b[37m\u001b[0m \u001b[1m0s\u001b[0m 9ms/step - accuracy: 0.6803 - loss: 0.6407 - val_accuracy: 0.8112 - val_loss: 0.5925\n",
      "Epoch 12/32\n",
      "\u001b[1m9/9\u001b[0m \u001b[32m━━━━━━━━━━━━━━━━━━━━\u001b[0m\u001b[37m\u001b[0m \u001b[1m0s\u001b[0m 9ms/step - accuracy: 0.7078 - loss: 0.6507 - val_accuracy: 0.8252 - val_loss: 0.5922\n",
      "Epoch 13/32\n",
      "\u001b[1m9/9\u001b[0m \u001b[32m━━━━━━━━━━━━━━━━━━━━\u001b[0m\u001b[37m\u001b[0m \u001b[1m0s\u001b[0m 9ms/step - accuracy: 0.7005 - loss: 0.6336 - val_accuracy: 0.8392 - val_loss: 0.5896\n",
      "Epoch 14/32\n",
      "\u001b[1m9/9\u001b[0m \u001b[32m━━━━━━━━━━━━━━━━━━━━\u001b[0m\u001b[37m\u001b[0m \u001b[1m0s\u001b[0m 9ms/step - accuracy: 0.6839 - loss: 0.6213 - val_accuracy: 0.8462 - val_loss: 0.5841\n",
      "Epoch 15/32\n",
      "\u001b[1m9/9\u001b[0m \u001b[32m━━━━━━━━━━━━━━━━━━━━\u001b[0m\u001b[37m\u001b[0m \u001b[1m0s\u001b[0m 9ms/step - accuracy: 0.6532 - loss: 0.6215 - val_accuracy: 0.8601 - val_loss: 0.5788\n",
      "Epoch 16/32\n",
      "\u001b[1m9/9\u001b[0m \u001b[32m━━━━━━━━━━━━━━━━━━━━\u001b[0m\u001b[37m\u001b[0m \u001b[1m0s\u001b[0m 9ms/step - accuracy: 0.6715 - loss: 0.6325 - val_accuracy: 0.8671 - val_loss: 0.5789\n",
      "Epoch 17/32\n",
      "\u001b[1m9/9\u001b[0m \u001b[32m━━━━━━━━━━━━━━━━━━━━\u001b[0m\u001b[37m\u001b[0m \u001b[1m0s\u001b[0m 9ms/step - accuracy: 0.6945 - loss: 0.6180 - val_accuracy: 0.8601 - val_loss: 0.5778\n",
      "Epoch 18/32\n",
      "\u001b[1m9/9\u001b[0m \u001b[32m━━━━━━━━━━━━━━━━━━━━\u001b[0m\u001b[37m\u001b[0m \u001b[1m0s\u001b[0m 9ms/step - accuracy: 0.7224 - loss: 0.5937 - val_accuracy: 0.8531 - val_loss: 0.5708\n",
      "Epoch 19/32\n",
      "\u001b[1m9/9\u001b[0m \u001b[32m━━━━━━━━━━━━━━━━━━━━\u001b[0m\u001b[37m\u001b[0m \u001b[1m0s\u001b[0m 9ms/step - accuracy: 0.6795 - loss: 0.6304 - val_accuracy: 0.8531 - val_loss: 0.5681\n",
      "Epoch 20/32\n",
      "\u001b[1m9/9\u001b[0m \u001b[32m━━━━━━━━━━━━━━━━━━━━\u001b[0m\u001b[37m\u001b[0m \u001b[1m0s\u001b[0m 9ms/step - accuracy: 0.6692 - loss: 0.6201 - val_accuracy: 0.8601 - val_loss: 0.5663\n",
      "Epoch 21/32\n",
      "\u001b[1m9/9\u001b[0m \u001b[32m━━━━━━━━━━━━━━━━━━━━\u001b[0m\u001b[37m\u001b[0m \u001b[1m0s\u001b[0m 10ms/step - accuracy: 0.7062 - loss: 0.6134 - val_accuracy: 0.8531 - val_loss: 0.5639\n",
      "Epoch 22/32\n",
      "\u001b[1m9/9\u001b[0m \u001b[32m━━━━━━━━━━━━━━━━━━━━\u001b[0m\u001b[37m\u001b[0m \u001b[1m0s\u001b[0m 9ms/step - accuracy: 0.6671 - loss: 0.6136 - val_accuracy: 0.8601 - val_loss: 0.5591\n",
      "Epoch 23/32\n",
      "\u001b[1m9/9\u001b[0m \u001b[32m━━━━━━━━━━━━━━━━━━━━\u001b[0m\u001b[37m\u001b[0m \u001b[1m0s\u001b[0m 9ms/step - accuracy: 0.7097 - loss: 0.6126 - val_accuracy: 0.8462 - val_loss: 0.5531\n",
      "Epoch 24/32\n",
      "\u001b[1m9/9\u001b[0m \u001b[32m━━━━━━━━━━━━━━━━━━━━\u001b[0m\u001b[37m\u001b[0m \u001b[1m0s\u001b[0m 9ms/step - accuracy: 0.7023 - loss: 0.6106 - val_accuracy: 0.8462 - val_loss: 0.5464\n",
      "Epoch 25/32\n",
      "\u001b[1m9/9\u001b[0m \u001b[32m━━━━━━━━━━━━━━━━━━━━\u001b[0m\u001b[37m\u001b[0m \u001b[1m0s\u001b[0m 9ms/step - accuracy: 0.6839 - loss: 0.6218 - val_accuracy: 0.8531 - val_loss: 0.5434\n",
      "Epoch 26/32\n",
      "\u001b[1m9/9\u001b[0m \u001b[32m━━━━━━━━━━━━━━━━━━━━\u001b[0m\u001b[37m\u001b[0m \u001b[1m0s\u001b[0m 9ms/step - accuracy: 0.7150 - loss: 0.5914 - val_accuracy: 0.8462 - val_loss: 0.5374\n",
      "Epoch 27/32\n",
      "\u001b[1m9/9\u001b[0m \u001b[32m━━━━━━━━━━━━━━━━━━━━\u001b[0m\u001b[37m\u001b[0m \u001b[1m0s\u001b[0m 9ms/step - accuracy: 0.7153 - loss: 0.5955 - val_accuracy: 0.8322 - val_loss: 0.5313\n",
      "Epoch 28/32\n",
      "\u001b[1m9/9\u001b[0m \u001b[32m━━━━━━━━━━━━━━━━━━━━\u001b[0m\u001b[37m\u001b[0m \u001b[1m0s\u001b[0m 9ms/step - accuracy: 0.7072 - loss: 0.5726 - val_accuracy: 0.8392 - val_loss: 0.5247\n",
      "Epoch 29/32\n",
      "\u001b[1m9/9\u001b[0m \u001b[32m━━━━━━━━━━━━━━━━━━━━\u001b[0m\u001b[37m\u001b[0m \u001b[1m0s\u001b[0m 9ms/step - accuracy: 0.7155 - loss: 0.6038 - val_accuracy: 0.8392 - val_loss: 0.5233\n",
      "Epoch 30/32\n",
      "\u001b[1m9/9\u001b[0m \u001b[32m━━━━━━━━━━━━━━━━━━━━\u001b[0m\u001b[37m\u001b[0m \u001b[1m0s\u001b[0m 10ms/step - accuracy: 0.7056 - loss: 0.6044 - val_accuracy: 0.8531 - val_loss: 0.5281\n",
      "Epoch 31/32\n",
      "\u001b[1m9/9\u001b[0m \u001b[32m━━━━━━━━━━━━━━━━━━━━\u001b[0m\u001b[37m\u001b[0m \u001b[1m0s\u001b[0m 9ms/step - accuracy: 0.7228 - loss: 0.5809 - val_accuracy: 0.8531 - val_loss: 0.5231\n",
      "Epoch 32/32\n",
      "\u001b[1m9/9\u001b[0m \u001b[32m━━━━━━━━━━━━━━━━━━━━\u001b[0m\u001b[37m\u001b[0m \u001b[1m0s\u001b[0m 9ms/step - accuracy: 0.7215 - loss: 0.5878 - val_accuracy: 0.8392 - val_loss: 0.5169\n",
      "\u001b[1m6/6\u001b[0m \u001b[32m━━━━━━━━━━━━━━━━━━━━\u001b[0m\u001b[37m\u001b[0m \u001b[1m0s\u001b[0m 5ms/step - accuracy: 0.8265 - loss: 0.5228 \n",
      "Test Accuracy: 0.80\n"
     ]
    },
    {
     "data": {
      "image/png": "[encoded data removed]",
      "text/plain": [
       "<Figure size 640x480 with 1 Axes>"
      ]
     },
     "metadata": {},
     "output_type": "display_data"
    }
   ],
   "source": [
    "model = get_model2()\n",
    "history = model.fit(X_train, y_train, epochs=32, batch_size=64, validation_split=0.2)\n",
    "loss, accuracy = model.evaluate(X_test, y_test)\n",
    "print(f'Test Accuracy: {accuracy:.2f}')\n",
    "plt.plot(history.history['loss'])\n",
    "plt.plot(history.history['val_loss'])\n",
    "plt.title('model loss')\n",
    "plt.ylabel('loss')\n",
    "plt.xlabel('epoch')\n",
    "plt.legend(['train', 'val'], loc='upper left')\n",
    "plt.show()"
   ]
  },
  {
   "cell_type": "markdown",
   "metadata": {},
   "source": [
    "Первая модоель показала себя лучше и дальше рассматривается она"
   ]
  },
  {
   "cell_type": "markdown",
   "metadata": {},
   "source": [
    "# Кросс-валидация "
   ]
  },
  {
   "cell_type": "code",
   "execution_count": 166,
   "metadata": {
    "execution": {
     "iopub.execute_input": "2024-12-13T12:37:17.734347Z",
     "iopub.status.busy": "2024-12-13T12:37:17.733895Z",
     "iopub.status.idle": "2024-12-13T12:37:29.205093Z",
     "shell.execute_reply": "2024-12-13T12:37:29.204157Z",
     "shell.execute_reply.started": "2024-12-13T12:37:17.734301Z"
    },
    "trusted": true
   },
   "outputs": [
    {
     "name": "stdout",
     "output_type": "stream",
     "text": [
      "Epoch 1/32\n",
      "\u001b[1m18/18\u001b[0m \u001b[32m━━━━━━━━━━━━━━━━━━━━\u001b[0m\u001b[37m\u001b[0m \u001b[1m1s\u001b[0m 13ms/step - accuracy: 0.6404 - loss: 24.5767 - val_accuracy: 0.6713 - val_loss: 12.9922\n",
      "Epoch 2/32\n",
      "\u001b[1m18/18\u001b[0m \u001b[32m━━━━━━━━━━━━━━━━━━━━\u001b[0m\u001b[37m\u001b[0m \u001b[1m0s\u001b[0m 5ms/step - accuracy: 0.6276 - loss: 10.6801 - val_accuracy: 0.4056 - val_loss: 6.0549\n",
      "Epoch 3/32\n",
      "\u001b[1m18/18\u001b[0m \u001b[32m━━━━━━━━━━━━━━━━━━━━\u001b[0m\u001b[37m\u001b[0m \u001b[1m0s\u001b[0m 5ms/step - accuracy: 0.4850 - loss: 5.3758 - val_accuracy: 0.6434 - val_loss: 3.2340\n",
      "Epoch 4/32\n",
      "\u001b[1m18/18\u001b[0m \u001b[32m━━━━━━━━━━━━━━━━━━━━\u001b[0m\u001b[37m\u001b[0m \u001b[1m0s\u001b[0m 5ms/step - accuracy: 0.5902 - loss: 2.6591 - val_accuracy: 0.6923 - val_loss: 2.1941\n",
      "Epoch 5/32\n",
      "\u001b[1m18/18\u001b[0m \u001b[32m━━━━━━━━━━━━━━━━━━━━\u001b[0m\u001b[37m\u001b[0m \u001b[1m0s\u001b[0m 5ms/step - accuracy: 0.6314 - loss: 1.7409 - val_accuracy: 0.6783 - val_loss: 1.3409\n",
      "Epoch 6/32\n",
      "\u001b[1m18/18\u001b[0m \u001b[32m━━━━━━━━━━━━━━━━━━━━\u001b[0m\u001b[37m\u001b[0m \u001b[1m0s\u001b[0m 5ms/step - accuracy: 0.6520 - loss: 1.0298 - val_accuracy: 0.6993 - val_loss: 0.9088\n",
      "Epoch 7/32\n",
      "\u001b[1m18/18\u001b[0m \u001b[32m━━━━━━━━━━━━━━━━━━━━\u001b[0m\u001b[37m\u001b[0m \u001b[1m0s\u001b[0m 5ms/step - accuracy: 0.6177 - loss: 0.8477 - val_accuracy: 0.5105 - val_loss: 0.9272\n",
      "Epoch 8/32\n",
      "\u001b[1m18/18\u001b[0m \u001b[32m━━━━━━━━━━━━━━━━━━━━\u001b[0m\u001b[37m\u001b[0m \u001b[1m0s\u001b[0m 5ms/step - accuracy: 0.6034 - loss: 0.8556 - val_accuracy: 0.7133 - val_loss: 0.7504\n",
      "Epoch 9/32\n",
      "\u001b[1m18/18\u001b[0m \u001b[32m━━━━━━━━━━━━━━━━━━━━\u001b[0m\u001b[37m\u001b[0m \u001b[1m0s\u001b[0m 5ms/step - accuracy: 0.6672 - loss: 0.7102 - val_accuracy: 0.7063 - val_loss: 0.7502\n",
      "Epoch 10/32\n",
      "\u001b[1m18/18\u001b[0m \u001b[32m━━━━━━━━━━━━━━━━━━━━\u001b[0m\u001b[37m\u001b[0m \u001b[1m0s\u001b[0m 5ms/step - accuracy: 0.6406 - loss: 0.6952 - val_accuracy: 0.7203 - val_loss: 0.6599\n",
      "Epoch 11/32\n",
      "\u001b[1m18/18\u001b[0m \u001b[32m━━━━━━━━━━━━━━━━━━━━\u001b[0m\u001b[37m\u001b[0m \u001b[1m0s\u001b[0m 5ms/step - accuracy: 0.6742 - loss: 0.6521 - val_accuracy: 0.7273 - val_loss: 0.6274\n",
      "Epoch 12/32\n",
      "\u001b[1m18/18\u001b[0m \u001b[32m━━━━━━━━━━━━━━━━━━━━\u001b[0m\u001b[37m\u001b[0m \u001b[1m0s\u001b[0m 5ms/step - accuracy: 0.7393 - loss: 0.5983 - val_accuracy: 0.7483 - val_loss: 0.6114\n",
      "Epoch 13/32\n",
      "\u001b[1m18/18\u001b[0m \u001b[32m━━━━━━━━━━━━━━━━━━━━\u001b[0m\u001b[37m\u001b[0m \u001b[1m0s\u001b[0m 5ms/step - accuracy: 0.6872 - loss: 0.6199 - val_accuracy: 0.7343 - val_loss: 0.5881\n",
      "Epoch 14/32\n",
      "\u001b[1m18/18\u001b[0m \u001b[32m━━━━━━━━━━━━━━━━━━━━\u001b[0m\u001b[37m\u001b[0m \u001b[1m0s\u001b[0m 5ms/step - accuracy: 0.6956 - loss: 0.6034 - val_accuracy: 0.7203 - val_loss: 0.5748\n",
      "Epoch 15/32\n",
      "\u001b[1m18/18\u001b[0m \u001b[32m━━━━━━━━━━━━━━━━━━━━\u001b[0m\u001b[37m\u001b[0m \u001b[1m0s\u001b[0m 5ms/step - accuracy: 0.7045 - loss: 0.5954 - val_accuracy: 0.7203 - val_loss: 0.5575\n",
      "Epoch 16/32\n",
      "\u001b[1m18/18\u001b[0m \u001b[32m━━━━━━━━━━━━━━━━━━━━\u001b[0m\u001b[37m\u001b[0m \u001b[1m0s\u001b[0m 5ms/step - accuracy: 0.6117 - loss: 0.6577 - val_accuracy: 0.7273 - val_loss: 0.6117\n",
      "Epoch 17/32\n",
      "\u001b[1m18/18\u001b[0m \u001b[32m━━━━━━━━━━━━━━━━━━━━\u001b[0m\u001b[37m\u001b[0m \u001b[1m0s\u001b[0m 5ms/step - accuracy: 0.6977 - loss: 0.5902 - val_accuracy: 0.7343 - val_loss: 0.5533\n",
      "Epoch 18/32\n",
      "\u001b[1m18/18\u001b[0m \u001b[32m━━━━━━━━━━━━━━━━━━━━\u001b[0m\u001b[37m\u001b[0m \u001b[1m0s\u001b[0m 5ms/step - accuracy: 0.6998 - loss: 0.5926 - val_accuracy: 0.7343 - val_loss: 0.5378\n",
      "Epoch 19/32\n",
      "\u001b[1m18/18\u001b[0m \u001b[32m━━━━━━━━━━━━━━━━━━━━\u001b[0m\u001b[37m\u001b[0m \u001b[1m0s\u001b[0m 5ms/step - accuracy: 0.7043 - loss: 0.5849 - val_accuracy: 0.7413 - val_loss: 0.5357\n",
      "Epoch 20/32\n",
      "\u001b[1m18/18\u001b[0m \u001b[32m━━━━━━━━━━━━━━━━━━━━\u001b[0m\u001b[37m\u001b[0m \u001b[1m0s\u001b[0m 5ms/step - accuracy: 0.7229 - loss: 0.5740 - val_accuracy: 0.7273 - val_loss: 0.5334\n",
      "Epoch 21/32\n",
      "\u001b[1m18/18\u001b[0m \u001b[32m━━━━━━━━━━━━━━━━━━━━\u001b[0m\u001b[37m\u001b[0m \u001b[1m0s\u001b[0m 5ms/step - accuracy: 0.7290 - loss: 0.5529 - val_accuracy: 0.7203 - val_loss: 0.5400\n",
      "Epoch 22/32\n",
      "\u001b[1m18/18\u001b[0m \u001b[32m━━━━━━━━━━━━━━━━━━━━\u001b[0m\u001b[37m\u001b[0m \u001b[1m0s\u001b[0m 5ms/step - accuracy: 0.6971 - loss: 0.6144 - val_accuracy: 0.7273 - val_loss: 0.5283\n",
      "Epoch 23/32\n",
      "\u001b[1m18/18\u001b[0m \u001b[32m━━━━━━━━━━━━━━━━━━━━\u001b[0m\u001b[37m\u001b[0m \u001b[1m0s\u001b[0m 5ms/step - accuracy: 0.7331 - loss: 0.5523 - val_accuracy: 0.7203 - val_loss: 0.5537\n",
      "Epoch 24/32\n",
      "\u001b[1m18/18\u001b[0m \u001b[32m━━━━━━━━━━━━━━━━━━━━\u001b[0m\u001b[37m\u001b[0m \u001b[1m0s\u001b[0m 5ms/step - accuracy: 0.7073 - loss: 0.6107 - val_accuracy: 0.7133 - val_loss: 0.5345\n",
      "Epoch 25/32\n",
      "\u001b[1m18/18\u001b[0m \u001b[32m━━━━━━━━━━━━━━━━━━━━\u001b[0m\u001b[37m\u001b[0m \u001b[1m0s\u001b[0m 5ms/step - accuracy: 0.7211 - loss: 0.5847 - val_accuracy: 0.7692 - val_loss: 0.5200\n",
      "Epoch 26/32\n",
      "\u001b[1m18/18\u001b[0m \u001b[32m━━━━━━━━━━━━━━━━━━━━\u001b[0m\u001b[37m\u001b[0m \u001b[1m0s\u001b[0m 5ms/step - accuracy: 0.7547 - loss: 0.5378 - val_accuracy: 0.7343 - val_loss: 0.4975\n",
      "Epoch 27/32\n",
      "\u001b[1m18/18\u001b[0m \u001b[32m━━━━━━━━━━━━━━━━━━━━\u001b[0m\u001b[37m\u001b[0m \u001b[1m0s\u001b[0m 6ms/step - accuracy: 0.7150 - loss: 0.5767 - val_accuracy: 0.7203 - val_loss: 0.5127\n",
      "Epoch 28/32\n",
      "\u001b[1m18/18\u001b[0m \u001b[32m━━━━━━━━━━━━━━━━━━━━\u001b[0m\u001b[37m\u001b[0m \u001b[1m0s\u001b[0m 5ms/step - accuracy: 0.7079 - loss: 0.6076 - val_accuracy: 0.7762 - val_loss: 0.5033\n",
      "Epoch 29/32\n",
      "\u001b[1m18/18\u001b[0m \u001b[32m━━━━━━━━━━━━━━━━━━━━\u001b[0m\u001b[37m\u001b[0m \u001b[1m0s\u001b[0m 5ms/step - accuracy: 0.7754 - loss: 0.5090 - val_accuracy: 0.7483 - val_loss: 0.5045\n",
      "Epoch 30/32\n",
      "\u001b[1m18/18\u001b[0m \u001b[32m━━━━━━━━━━━━━━━━━━━━\u001b[0m\u001b[37m\u001b[0m \u001b[1m0s\u001b[0m 5ms/step - accuracy: 0.7387 - loss: 0.5480 - val_accuracy: 0.7203 - val_loss: 0.5092\n",
      "Epoch 31/32\n",
      "\u001b[1m18/18\u001b[0m \u001b[32m━━━━━━━━━━━━━━━━━━━━\u001b[0m\u001b[37m\u001b[0m \u001b[1m0s\u001b[0m 5ms/step - accuracy: 0.7048 - loss: 0.6238 - val_accuracy: 0.7273 - val_loss: 0.5829\n",
      "Epoch 32/32\n",
      "\u001b[1m18/18\u001b[0m \u001b[32m━━━━━━━━━━━━━━━━━━━━\u001b[0m\u001b[37m\u001b[0m \u001b[1m0s\u001b[0m 5ms/step - accuracy: 0.7413 - loss: 0.5765 - val_accuracy: 0.4336 - val_loss: 1.1539\n",
      "\u001b[1m6/6\u001b[0m \u001b[32m━━━━━━━━━━━━━━━━━━━━\u001b[0m\u001b[37m\u001b[0m \u001b[1m0s\u001b[0m 5ms/step - accuracy: 0.4470 - loss: 1.1595 \n",
      "\u001b[1m10/10\u001b[0m \u001b[32m━━━━━━━━━━━━━━━━━━━━\u001b[0m\u001b[37m\u001b[0m \u001b[1m0s\u001b[0m 4ms/step \n",
      "Confusion Matrix:\n",
      "[[163  14]\n",
      " [ 53  67]]\n",
      "\n",
      "Classification Report:\n",
      "              precision    recall  f1-score   support\n",
      "\n",
      "           0       0.75      0.92      0.83       177\n",
      "           1       0.83      0.56      0.67       120\n",
      "\n",
      "    accuracy                           0.77       297\n",
      "   macro avg       0.79      0.74      0.75       297\n",
      "weighted avg       0.78      0.77      0.76       297\n",
      "\n",
      "\u001b[1m10/10\u001b[0m \u001b[32m━━━━━━━━━━━━━━━━━━━━\u001b[0m\u001b[37m\u001b[0m \u001b[1m0s\u001b[0m 2ms/step \n",
      "Confusion Matrix:\n",
      "[[135  50]\n",
      " [ 23  89]]\n",
      "\n",
      "Classification Report:\n",
      "              precision    recall  f1-score   support\n",
      "\n",
      "           0       0.85      0.73      0.79       185\n",
      "           1       0.64      0.79      0.71       112\n",
      "\n",
      "    accuracy                           0.75       297\n",
      "   macro avg       0.75      0.76      0.75       297\n",
      "weighted avg       0.77      0.75      0.76       297\n",
      "\n",
      "\u001b[1m10/10\u001b[0m \u001b[32m━━━━━━━━━━━━━━━━━━━━\u001b[0m\u001b[37m\u001b[0m \u001b[1m0s\u001b[0m 2ms/step \n",
      "Confusion Matrix:\n",
      "[[146  41]\n",
      " [ 27  83]]\n",
      "\n",
      "Classification Report:\n",
      "              precision    recall  f1-score   support\n",
      "\n",
      "           0       0.84      0.78      0.81       187\n",
      "           1       0.67      0.75      0.71       110\n",
      "\n",
      "    accuracy                           0.77       297\n",
      "   macro avg       0.76      0.77      0.76       297\n",
      "weighted avg       0.78      0.77      0.77       297\n",
      "\n",
      "Best model index: 0\n",
      "Average Accuracy: 0.7666\n",
      "Standard Deviation of Accuracy: 0.0088\n",
      "Average Loss: 0.5045\n",
      "Standard Deviation of Loss: 0.0258\n"
     ]
    }
   ],
   "source": [
    "from sklearn.model_selection import KFold\n",
    "from sklearn.metrics import confusion_matrix, classification_report\n",
    "\n",
    "X_train, X_test, y_train, y_test = train_test_split(X, y, test_size=0.2, random_state=42)\n",
    "\n",
    "# Train the model\n",
    "model = get_model1()\n",
    "history = model.fit(X_train, y_train, epochs=32, batch_size=32, validation_split=0.2)\n",
    "\n",
    "# Evaluate the model\n",
    "loss, accuracy = model.evaluate(X_test, y_test)\n",
    "\n",
    "\n",
    "kf = KFold(n_splits=3, shuffle=True, random_state=42)\n",
    "accuracies = []\n",
    "losses = []\n",
    "confusion_matrices = []\n",
    "X1 = pd.DataFrame(scaler.transform(X_train), columns=X_train.columns, index=X_train.index)\n",
    "for train_index, test_index in kf.split(X):\n",
    "    \n",
    "    # Use iloc for integer-based indexing\n",
    "    X_train, X_test = X.iloc[train_index], X.iloc[test_index]\n",
    "    y_train, y_test = y.iloc[train_index], y.iloc[test_index]\n",
    "    \n",
    "    history = model.fit(X_train, y_train, \n",
    "                        epochs=32, batch_size=32, \n",
    "                        validation_data=(X_test, y_test),\n",
    "                        verbose=0)\n",
    "    y_pred = model.predict(X_test)    \n",
    "    if len(accuracies) == 0 or history.history['val_accuracy'][-1] > max(accuracies):\n",
    "        best_pred = y_pred\n",
    "    accuracies.append(history.history['val_accuracy'][-1])\n",
    "    losses.append(history.history['val_loss'][-1])\n",
    "\n",
    "    # Create the confusion matrix\n",
    "    conf_matrix = confusion_matrix(y_test, (y_pred > 0.5).astype(int))\n",
    "    confusion_matrices.append(conf_matrix)\n",
    "    # Print the confusion matrix\n",
    "    print(\"Confusion Matrix:\")\n",
    "    print(conf_matrix)\n",
    "\n",
    "    # Calculate and print accuracy, precision, recall, F1-score\n",
    "    print(\"\\nClassification Report:\")\n",
    "    print(classification_report(y_test, (y_pred > 0.5).astype(int)))\n",
    "best_model_index = np.argmax(accuracies)\n",
    "print(f\"Best model index: {best_model_index}\")\n",
    "print(f\"Average Accuracy: {np.mean(accuracies):.4f}\")\n",
    "print(f\"Standard Deviation of Accuracy: {np.std(accuracies):.4f}\")\n",
    "print(f\"Average Loss: {np.mean(losses):.4f}\")\n",
    "print(f\"Standard Deviation of Loss: {np.std(losses):.4f}\")"
   ]
  },
  {
   "cell_type": "code",
   "execution_count": 167,
   "metadata": {
    "execution": {
     "iopub.execute_input": "2024-12-13T12:37:29.206629Z",
     "iopub.status.busy": "2024-12-13T12:37:29.206338Z",
     "iopub.status.idle": "2024-12-13T12:37:29.361888Z",
     "shell.execute_reply": "2024-12-13T12:37:29.360821Z",
     "shell.execute_reply.started": "2024-12-13T12:37:29.206597Z"
    },
    "trusted": true
   },
   "outputs": [
    {
     "data": {
      "image/png": "[encoded data removed]",
      "text/plain": [
       "<Figure size 800x600 with 1 Axes>"
      ]
     },
     "metadata": {},
     "output_type": "display_data"
    }
   ],
   "source": [
    "total_confusion_matrix = np.sum(confusion_matrices, axis=0)\n",
    "plt.figure(figsize=(8, 6))\n",
    "sns.heatmap(total_confusion_matrix, annot=True, fmt='d', cmap='Blues', cbar=False,\n",
    "            xticklabels=['Predicted Died', 'Predicted Survived'],\n",
    "                yticklabels=['Actual Died', 'Actual Survived'])\n",
    "plt.xlabel('Predicted Class')\n",
    "plt.ylabel('True Class')\n",
    "plt.title('Confusion matrix for cross-validation')\n",
    "plt.show()"
   ]
  },
  {
   "cell_type": "code",
   "execution_count": 168,
   "metadata": {
    "execution": {
     "iopub.execute_input": "2024-12-13T12:37:29.363527Z",
     "iopub.status.busy": "2024-12-13T12:37:29.363109Z",
     "iopub.status.idle": "2024-12-13T12:37:29.472560Z",
     "shell.execute_reply": "2024-12-13T12:37:29.471540Z",
     "shell.execute_reply.started": "2024-12-13T12:37:29.363481Z"
    },
    "trusted": true
   },
   "outputs": [
    {
     "name": "stdout",
     "output_type": "stream",
     "text": [
      "\u001b[1m6/6\u001b[0m \u001b[32m━━━━━━━━━━━━━━━━━━━━\u001b[0m\u001b[37m\u001b[0m \u001b[1m0s\u001b[0m 4ms/step \n",
      "Confusion Matrix:\n",
      "[[83 22]\n",
      " [13 61]]\n",
      "\n",
      "Classification Report:\n",
      "              precision    recall  f1-score   support\n",
      "\n",
      "           0       0.86      0.79      0.83       105\n",
      "           1       0.73      0.82      0.78        74\n",
      "\n",
      "    accuracy                           0.80       179\n",
      "   macro avg       0.80      0.81      0.80       179\n",
      "weighted avg       0.81      0.80      0.81       179\n",
      "\n"
     ]
    }
   ],
   "source": [
    "X_train, X_test, y_train, y_test = train_test_split(X, y, test_size=0.2, random_state=42)\n",
    "y_pred = model.predict(X_test)\n",
    "if len(accuracies) == 0 or history.history['val_accuracy'][-1] > max(accuracies):\n",
    "    best_pred = y_pred\n",
    "accuracies.append(history.history['val_accuracy'][-1])\n",
    "losses.append(history.history['val_loss'][-1])\n",
    "\n",
    "# Create the confusion matrix\n",
    "conf_matrix = confusion_matrix(y_test, (y_pred > 0.5).astype(int))\n",
    "\n",
    "# Print the confusion matrix\n",
    "print(\"Confusion Matrix:\")\n",
    "print(conf_matrix)\n",
    "\n",
    "# Calculate and print accuracy, precision, recall, F1-score\n",
    "print(\"\\nClassification Report:\")\n",
    "print(classification_report(y_test, (y_pred > 0.5).astype(int)))\n",
    "tn, fp, fn, tp = conf_matrix.ravel()"
   ]
  },
  {
   "cell_type": "markdown",
   "metadata": {},
   "source": [
    "## №1 Кросс-валидация с билетами"
   ]
  },
  {
   "cell_type": "code",
   "execution_count": 169,
   "metadata": {
    "execution": {
     "iopub.execute_input": "2024-12-13T12:37:29.474252Z",
     "iopub.status.busy": "2024-12-13T12:37:29.473871Z",
     "iopub.status.idle": "2024-12-13T12:37:29.488729Z",
     "shell.execute_reply": "2024-12-13T12:37:29.487690Z",
     "shell.execute_reply.started": "2024-12-13T12:37:29.474219Z"
    },
    "trusted": true
   },
   "outputs": [
    {
     "name": "stdout",
     "output_type": "stream",
     "text": [
      "{'0': {'precision': 0.8645833333333334, 'recall': 0.7904761904761904, 'f1-score': 0.8258706467661692, 'support': 105.0}, '1': {'precision': 0.7349397590361446, 'recall': 0.8243243243243243, 'f1-score': 0.7770700636942676, 'support': 74.0}, 'accuracy': 0.8044692737430168, 'macro avg': {'precision': 0.7997615461847389, 'recall': 0.8074002574002574, 'f1-score': 0.8014703552302184, 'support': 179.0}, 'weighted avg': {'precision': 0.810987665746786, 'recall': 0.8044692737430168, 'f1-score': 0.8056961040437071, 'support': 179.0}}\n",
      "tn: 83 \n",
      "fp: 22\n",
      "fn: 13\n",
      "tp: 61 \n",
      "\n"
     ]
    }
   ],
   "source": [
    "dict = classification_report(y_test, (y_pred > 0.5).astype(int), output_dict=True)\n",
    "print(dict)\n",
    "print(f\"tn: {tn} \\nfp: {fp}\\nfn: {fn}\\ntp: {tp} \\n\")"
   ]
  },
  {
   "cell_type": "markdown",
   "metadata": {},
   "source": [
    "## №2 Кросс-валидация без билетов"
   ]
  },
  {
   "cell_type": "markdown",
   "metadata": {},
   "source": [
    "Classification Report:  \n",
    "              precision    recall  f1-score   support\n",
    "\n",
    "           0       0.83      0.83      0.83       105\n",
    "           1       0.76      0.76      0.76        74\n",
    "\n",
    "    accuracy                           0.80       179\n",
    "   macro avg       0.79      0.79      0.79       179\n",
    "weighted avg       0.80      0.80      0.80       179  62 "
   ]
  },
  {
   "cell_type": "markdown",
   "metadata": {},
   "source": [
    "## Итог кросс-валидации"
   ]
  },
  {
   "cell_type": "markdown",
   "metadata": {},
   "source": [
    "Кросс-валидация без билетов показала результат значительно хуже, следовательно билеты имеют значение при рассмотрении выживания пассажиров"
   ]
  },
  {
   "cell_type": "markdown",
   "metadata": {},
   "source": [
    "# Вывод\n",
    "\n",
    "Мы провели анализ датафрэйма и провели feature engineering, проверили важность билетов. Составили несколько моделей и выбрали лучшую, получив итоговую точность в f1 0.83.\n",
    "Полученная модель имеет хорошие графики  потерь с постоянным уменьшением, что говорит о её способности предсказывать результаты с хорошей точностью."
   ]
  }
 ],
 "metadata": {
  "kaggle": {
   "accelerator": "none",
   "dataSources": [
    {
     "databundleVersionId": 26502,
     "sourceId": 3136,
     "sourceType": "competition"
    },
    {
     "datasetId": 1247358,
     "sourceId": 2080558,
     "sourceType": "datasetVersion"
    }
   ],
   "dockerImageVersionId": 30804,
   "isGpuEnabled": false,
   "isInternetEnabled": false,
   "language": "python",
   "sourceType": "notebook"
  },
  "kernelspec": {
   "display_name": "Python 3",
   "language": "python",
   "name": "python3"
  },
  "language_info": {
   "codemirror_mode": {
    "name": "ipython",
    "version": 3
   },
   "file_extension": ".py",
   "mimetype": "text/x-python",
   "name": "python",
   "nbconvert_exporter": "python",
   "pygments_lexer": "ipython3",
   "version": "3.12.3"
  }
 },
 "nbformat": 4,
 "nbformat_minor": 4
}
